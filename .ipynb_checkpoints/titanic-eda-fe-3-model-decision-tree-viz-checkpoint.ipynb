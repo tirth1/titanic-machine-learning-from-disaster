{
 "cells": [
  {
   "cell_type": "markdown",
   "metadata": {
    "_cell_guid": "ea25668d-9c1c-4897-89b8-61fcb47dfb2b",
    "_uuid": "b65f81c1bdb84faefc3e77c8f621d4a6e2d326bb"
   },
   "source": [
    "<center><font size=\"10\">🚢🏊🏻‍♀️Titanic Start Here: A GENTLE Introduction</font></center>\n",
    "<br>\n",
    "<center><font size=\"3\">Introdution</font></center>\n",
    "> In this Kernel we will see 3 approaches to the classification task in detail.\n",
    "> 1. [Import Data & Python Packages](#1-bullet) <br>\n",
    "> 2. [Missing Value Handling](#2-bullet)<br>\n",
    ">     * [2.1 Age - Missing Values](#2.1-bullet) <br>\n",
    ">     * [2.2 Embarked - Missing Values](#2.2-bullet) <br>\n",
    ">     * [2.3 Final Adjustments to Data](#2.3-bullet) <br>\n",
    ">     * [2.4 Additional Variables](#2.4-bullet) <br> \n",
    "> 3. [Exploratory Data Analysis](#3-bullet) <br>\n",
    "> 4. [Alternate Approach 1 :Logistic Regression](#4-bullet) <br>\n",
    "> 5. [Alternate Approach 2 : Random Forest Estimation](#5-bullet) <br>\n",
    "> 6. [Alternate Approach 3: Decision Tree](#6-bullet) <br>\n",
    "> 7. [Ensemble](#7-bullet)\n",
    "> 8. [TOP 1% Solution GA](#8-bullet)"
   ]
  },
  {
   "cell_type": "markdown",
   "metadata": {
    "_cell_guid": "33c91cae-2ff8-45a6-b8cb-671619e9c933",
    "_uuid": "0a395fd25f20834b070ef55cb8987c8c1f9b55f9"
   },
   "source": [
    "## 1. Import Data & Python Packages <a class=\"anchor\" id=\"1-bullet\"></a>"
   ]
  },
  {
   "cell_type": "code",
   "execution_count": 1,
   "metadata": {
    "_cell_guid": "de05512e-6991-44df-9599-da92a7e459ac",
    "_uuid": "d8bdd5f0320e244e4702ed8ec1c2482b022c51cd"
   },
   "outputs": [],
   "source": [
    "import numpy as np \n",
    "import pandas as pd \n",
    "import sys\n",
    "\n",
    "from sklearn import preprocessing\n",
    "import matplotlib.pyplot as plt \n",
    "plt.rc(\"font\", size=14)\n",
    "import seaborn as sns\n",
    "sns.set(style=\"dark\") #white background style for seaborn plots\n",
    "sns.set(style=\"darkgrid\", color_codes=True)\n",
    "RED   = \"\\033[1;31m\"  \n",
    "BLUE  = \"\\033[1;34m\"\n",
    "CYAN  = \"\\033[1;36m\"\n",
    "GREEN = \"\\033[0;32m\"\n",
    "#sklearn imports source: https://towardsdatascience.com/building-a-logistic-regression-in-python-step-by-step-becd4d56c9c8"
   ]
  },
  {
   "cell_type": "code",
   "execution_count": 2,
   "metadata": {
    "_cell_guid": "e0a17223-f682-45fc-89a5-667af9782bbe",
    "_uuid": "7964157913fbcff581fc1929eed487708e81ac9c"
   },
   "outputs": [
    {
     "data": {
      "text/html": [
       "<div>\n",
       "<style scoped>\n",
       "    .dataframe tbody tr th:only-of-type {\n",
       "        vertical-align: middle;\n",
       "    }\n",
       "\n",
       "    .dataframe tbody tr th {\n",
       "        vertical-align: top;\n",
       "    }\n",
       "\n",
       "    .dataframe thead th {\n",
       "        text-align: right;\n",
       "    }\n",
       "</style>\n",
       "<table border=\"1\" class=\"dataframe\">\n",
       "  <thead>\n",
       "    <tr style=\"text-align: right;\">\n",
       "      <th></th>\n",
       "      <th>PassengerId</th>\n",
       "      <th>Survived</th>\n",
       "      <th>Pclass</th>\n",
       "      <th>Name</th>\n",
       "      <th>Sex</th>\n",
       "      <th>Age</th>\n",
       "      <th>SibSp</th>\n",
       "      <th>Parch</th>\n",
       "      <th>Ticket</th>\n",
       "      <th>Fare</th>\n",
       "      <th>Cabin</th>\n",
       "      <th>Embarked</th>\n",
       "    </tr>\n",
       "  </thead>\n",
       "  <tbody>\n",
       "    <tr>\n",
       "      <th>0</th>\n",
       "      <td>1</td>\n",
       "      <td>0</td>\n",
       "      <td>3</td>\n",
       "      <td>Braund, Mr. Owen Harris</td>\n",
       "      <td>male</td>\n",
       "      <td>22.0</td>\n",
       "      <td>1</td>\n",
       "      <td>0</td>\n",
       "      <td>A/5 21171</td>\n",
       "      <td>7.2500</td>\n",
       "      <td>NaN</td>\n",
       "      <td>S</td>\n",
       "    </tr>\n",
       "    <tr>\n",
       "      <th>1</th>\n",
       "      <td>2</td>\n",
       "      <td>1</td>\n",
       "      <td>1</td>\n",
       "      <td>Cumings, Mrs. John Bradley (Florence Briggs Th...</td>\n",
       "      <td>female</td>\n",
       "      <td>38.0</td>\n",
       "      <td>1</td>\n",
       "      <td>0</td>\n",
       "      <td>PC 17599</td>\n",
       "      <td>71.2833</td>\n",
       "      <td>C85</td>\n",
       "      <td>C</td>\n",
       "    </tr>\n",
       "    <tr>\n",
       "      <th>2</th>\n",
       "      <td>3</td>\n",
       "      <td>1</td>\n",
       "      <td>3</td>\n",
       "      <td>Heikkinen, Miss. Laina</td>\n",
       "      <td>female</td>\n",
       "      <td>26.0</td>\n",
       "      <td>0</td>\n",
       "      <td>0</td>\n",
       "      <td>STON/O2. 3101282</td>\n",
       "      <td>7.9250</td>\n",
       "      <td>NaN</td>\n",
       "      <td>S</td>\n",
       "    </tr>\n",
       "    <tr>\n",
       "      <th>3</th>\n",
       "      <td>4</td>\n",
       "      <td>1</td>\n",
       "      <td>1</td>\n",
       "      <td>Futrelle, Mrs. Jacques Heath (Lily May Peel)</td>\n",
       "      <td>female</td>\n",
       "      <td>35.0</td>\n",
       "      <td>1</td>\n",
       "      <td>0</td>\n",
       "      <td>113803</td>\n",
       "      <td>53.1000</td>\n",
       "      <td>C123</td>\n",
       "      <td>S</td>\n",
       "    </tr>\n",
       "    <tr>\n",
       "      <th>4</th>\n",
       "      <td>5</td>\n",
       "      <td>0</td>\n",
       "      <td>3</td>\n",
       "      <td>Allen, Mr. William Henry</td>\n",
       "      <td>male</td>\n",
       "      <td>35.0</td>\n",
       "      <td>0</td>\n",
       "      <td>0</td>\n",
       "      <td>373450</td>\n",
       "      <td>8.0500</td>\n",
       "      <td>NaN</td>\n",
       "      <td>S</td>\n",
       "    </tr>\n",
       "  </tbody>\n",
       "</table>\n",
       "</div>"
      ],
      "text/plain": [
       "   PassengerId  Survived  Pclass  \\\n",
       "0            1         0       3   \n",
       "1            2         1       1   \n",
       "2            3         1       3   \n",
       "3            4         1       1   \n",
       "4            5         0       3   \n",
       "\n",
       "                                                Name     Sex   Age  SibSp  \\\n",
       "0                            Braund, Mr. Owen Harris    male  22.0      1   \n",
       "1  Cumings, Mrs. John Bradley (Florence Briggs Th...  female  38.0      1   \n",
       "2                             Heikkinen, Miss. Laina  female  26.0      0   \n",
       "3       Futrelle, Mrs. Jacques Heath (Lily May Peel)  female  35.0      1   \n",
       "4                           Allen, Mr. William Henry    male  35.0      0   \n",
       "\n",
       "   Parch            Ticket     Fare Cabin Embarked  \n",
       "0      0         A/5 21171   7.2500   NaN        S  \n",
       "1      0          PC 17599  71.2833   C85        C  \n",
       "2      0  STON/O2. 3101282   7.9250   NaN        S  \n",
       "3      0            113803  53.1000  C123        S  \n",
       "4      0            373450   8.0500   NaN        S  "
      ]
     },
     "execution_count": 2,
     "metadata": {},
     "output_type": "execute_result"
    }
   ],
   "source": [
    "# get titanic & test csv files as a DataFrame\n",
    "\n",
    "#developmental data (train)\n",
    "titanic_df = pd.read_csv(\"../input/titanic/train.csv\")\n",
    "\n",
    "#cross validation data (hold-out testing)\n",
    "test_df    = pd.read_csv(\"../input/titanic/test.csv\")\n",
    "\n",
    "# preview developmental data\n",
    "titanic_df.head(5)\n"
   ]
  },
  {
   "cell_type": "code",
   "execution_count": 3,
   "metadata": {
    "_cell_guid": "1d969b76-ea88-4d32-a58e-f22a070258bf",
    "_uuid": "bff38fcf31baf67493513c06f0c2f6e50576ff09"
   },
   "outputs": [
    {
     "data": {
      "text/html": [
       "<div>\n",
       "<style scoped>\n",
       "    .dataframe tbody tr th:only-of-type {\n",
       "        vertical-align: middle;\n",
       "    }\n",
       "\n",
       "    .dataframe tbody tr th {\n",
       "        vertical-align: top;\n",
       "    }\n",
       "\n",
       "    .dataframe thead th {\n",
       "        text-align: right;\n",
       "    }\n",
       "</style>\n",
       "<table border=\"1\" class=\"dataframe\">\n",
       "  <thead>\n",
       "    <tr style=\"text-align: right;\">\n",
       "      <th></th>\n",
       "      <th>PassengerId</th>\n",
       "      <th>Pclass</th>\n",
       "      <th>Name</th>\n",
       "      <th>Sex</th>\n",
       "      <th>Age</th>\n",
       "      <th>SibSp</th>\n",
       "      <th>Parch</th>\n",
       "      <th>Ticket</th>\n",
       "      <th>Fare</th>\n",
       "      <th>Cabin</th>\n",
       "      <th>Embarked</th>\n",
       "    </tr>\n",
       "  </thead>\n",
       "  <tbody>\n",
       "    <tr>\n",
       "      <th>0</th>\n",
       "      <td>892</td>\n",
       "      <td>3</td>\n",
       "      <td>Kelly, Mr. James</td>\n",
       "      <td>male</td>\n",
       "      <td>34.5</td>\n",
       "      <td>0</td>\n",
       "      <td>0</td>\n",
       "      <td>330911</td>\n",
       "      <td>7.8292</td>\n",
       "      <td>NaN</td>\n",
       "      <td>Q</td>\n",
       "    </tr>\n",
       "    <tr>\n",
       "      <th>1</th>\n",
       "      <td>893</td>\n",
       "      <td>3</td>\n",
       "      <td>Wilkes, Mrs. James (Ellen Needs)</td>\n",
       "      <td>female</td>\n",
       "      <td>47.0</td>\n",
       "      <td>1</td>\n",
       "      <td>0</td>\n",
       "      <td>363272</td>\n",
       "      <td>7.0000</td>\n",
       "      <td>NaN</td>\n",
       "      <td>S</td>\n",
       "    </tr>\n",
       "    <tr>\n",
       "      <th>2</th>\n",
       "      <td>894</td>\n",
       "      <td>2</td>\n",
       "      <td>Myles, Mr. Thomas Francis</td>\n",
       "      <td>male</td>\n",
       "      <td>62.0</td>\n",
       "      <td>0</td>\n",
       "      <td>0</td>\n",
       "      <td>240276</td>\n",
       "      <td>9.6875</td>\n",
       "      <td>NaN</td>\n",
       "      <td>Q</td>\n",
       "    </tr>\n",
       "    <tr>\n",
       "      <th>3</th>\n",
       "      <td>895</td>\n",
       "      <td>3</td>\n",
       "      <td>Wirz, Mr. Albert</td>\n",
       "      <td>male</td>\n",
       "      <td>27.0</td>\n",
       "      <td>0</td>\n",
       "      <td>0</td>\n",
       "      <td>315154</td>\n",
       "      <td>8.6625</td>\n",
       "      <td>NaN</td>\n",
       "      <td>S</td>\n",
       "    </tr>\n",
       "    <tr>\n",
       "      <th>4</th>\n",
       "      <td>896</td>\n",
       "      <td>3</td>\n",
       "      <td>Hirvonen, Mrs. Alexander (Helga E Lindqvist)</td>\n",
       "      <td>female</td>\n",
       "      <td>22.0</td>\n",
       "      <td>1</td>\n",
       "      <td>1</td>\n",
       "      <td>3101298</td>\n",
       "      <td>12.2875</td>\n",
       "      <td>NaN</td>\n",
       "      <td>S</td>\n",
       "    </tr>\n",
       "  </tbody>\n",
       "</table>\n",
       "</div>"
      ],
      "text/plain": [
       "   PassengerId  Pclass                                          Name     Sex  \\\n",
       "0          892       3                              Kelly, Mr. James    male   \n",
       "1          893       3              Wilkes, Mrs. James (Ellen Needs)  female   \n",
       "2          894       2                     Myles, Mr. Thomas Francis    male   \n",
       "3          895       3                              Wirz, Mr. Albert    male   \n",
       "4          896       3  Hirvonen, Mrs. Alexander (Helga E Lindqvist)  female   \n",
       "\n",
       "    Age  SibSp  Parch   Ticket     Fare Cabin Embarked  \n",
       "0  34.5      0      0   330911   7.8292   NaN        Q  \n",
       "1  47.0      1      0   363272   7.0000   NaN        S  \n",
       "2  62.0      0      0   240276   9.6875   NaN        Q  \n",
       "3  27.0      0      0   315154   8.6625   NaN        S  \n",
       "4  22.0      1      1  3101298  12.2875   NaN        S  "
      ]
     },
     "execution_count": 3,
     "metadata": {},
     "output_type": "execute_result"
    }
   ],
   "source": [
    "test_df.head(5)"
   ]
  },
  {
   "cell_type": "markdown",
   "metadata": {
    "_cell_guid": "6578c0da-7bcf-433d-9f28-a66d8dfa6fa3",
    "_uuid": "8660e63a62c2fcdb4f7633380166438caf5edae9"
   },
   "source": [
    "## 2. Data Quality & Missing Value Assessment <a class=\"anchor\" id=\"2-bullet\"></a>"
   ]
  },
  {
   "cell_type": "markdown",
   "metadata": {
    "_cell_guid": "7776faeb-6a8f-4460-a367-4b087d2cc089",
    "_uuid": "696b428bd3ca49421f650665267ce7ca1b358814"
   },
   "source": [
    "### 2.1    Age - Missing Values <a class=\"anchor\" id=\"2.1-bullet\"></a>"
   ]
  },
  {
   "cell_type": "code",
   "execution_count": 4,
   "metadata": {
    "_cell_guid": "81c65784-d043-47f4-bd1f-18ed772d902b",
    "_uuid": "233138d201b240f1e689a6cb9c63e527cb1cd929"
   },
   "outputs": [
    {
     "name": "stdout",
     "output_type": "stream",
     "text": [
      "\u001b[0;32mCount of missing Values : 177 , The Proportion of this values with dataset is 19.869999999999997\n",
      "\n",
      "\u001b[1;36mvisualization AGE\n"
     ]
    },
    {
     "data": {
      "image/png": "[encoded data removed]",
      "text/plain": [
       "<Figure size 432x288 with 1 Axes>"
      ]
     },
     "metadata": {},
     "output_type": "display_data"
    }
   ],
   "source": [
    "a=sum(pd.isnull(titanic_df['Age'])) # COUNT Missing Values in age\n",
    "b=round(a/(len(titanic_df[\"PassengerId\"])),4) # proportion of \"Age\" missing in percent\n",
    "sys.stdout.write(GREEN)\n",
    "print(\"Count of missing Values : {} , The Proportion of this values with dataset is {}\\n\".format(a,b*100))\n",
    "sys.stdout.write(CYAN)\n",
    "print(\"visualization AGE\")\n",
    "ax = titanic_df[\"Age\"].hist(bins=15, color='#34495e', alpha=0.9)\n",
    "ax.set(xlabel='Age', ylabel='Count')\n",
    "plt.show()"
   ]
  },
  {
   "cell_type": "markdown",
   "metadata": {
    "_cell_guid": "e62d6951-d968-43ba-aabf-add90524d042",
    "_uuid": "24c201948b9c8c8076ab01271a4790d9db9096b5"
   },
   "source": [
    "> Since \"Age\" is (right) skewed, using the mean might give us biased results by filling in ages that are older than desired.  To deal with this, we'll use the median to impute the missing values. "
   ]
  },
  {
   "cell_type": "code",
   "execution_count": 5,
   "metadata": {
    "_cell_guid": "76fa4f61-cbd1-4638-8c36-b73430f4f40c",
    "_uuid": "92c608b8f196e3eb7f75183a0d4ed61f3f914806"
   },
   "outputs": [
    {
     "name": "stdout",
     "output_type": "stream",
     "text": [
      "\u001b[1;36mMedian: 28.0 and Mean: 29.69911764705882 | Median age is 28 as compared to mean which is ~30\n"
     ]
    }
   ],
   "source": [
    "m1=titanic_df[\"Age\"].median(skipna=True)\n",
    "m2=titanic_df[\"Age\"].mean(skipna=True)\n",
    "sys.stdout.write(CYAN)\n",
    "print(\"Median: {} and Mean: {} | Median age is 28 as compared to mean which is ~30\".format(m1,m2))"
   ]
  },
  {
   "cell_type": "markdown",
   "metadata": {
    "_cell_guid": "0e696cff-ca80-4cb5-862c-ee80f4b1ab1f",
    "_uuid": "d575319b1f528c7a153d8ab680282048cb163b14"
   },
   "source": [
    "### 2.2 Embarked - Missing Values <a class=\"anchor\" id=\"2.2-bullet\"></a>"
   ]
  },
  {
   "cell_type": "code",
   "execution_count": 6,
   "metadata": {
    "_cell_guid": "f21c2b55-2126-439d-8b1d-e96dafc97d81",
    "_uuid": "92ab9e62fb62f2a0fb9972baf6ada444187540e6"
   },
   "outputs": [
    {
     "name": "stdout",
     "output_type": "stream",
     "text": [
      "\u001b[1;36mproportion of \"Embarked\" missing is 0.22\n"
     ]
    }
   ],
   "source": [
    "# proportion of \"Embarked\" missing\n",
    "a=round(2/len(titanic_df[\"PassengerId\"]),4)\n",
    "sys.stdout.write(CYAN)\n",
    "print('proportion of \"Embarked\" missing is {}'.format(a*100))"
   ]
  },
  {
   "cell_type": "code",
   "execution_count": 7,
   "metadata": {
    "_cell_guid": "7f3b91bc-f388-4fa3-b908-61c82292eab0",
    "_uuid": "7561cc74de105488d349832545367d13d562b67d"
   },
   "outputs": [
    {
     "name": "stdout",
     "output_type": "stream",
     "text": [
      "\u001b[1;36mvisualization Embarked\n"
     ]
    },
    {
     "data": {
      "image/png": "[encoded data removed]",
      "text/plain": [
       "<Figure size 432x288 with 1 Axes>"
      ]
     },
     "metadata": {},
     "output_type": "display_data"
    }
   ],
   "source": [
    "sys.stdout.write(CYAN)\n",
    "print('visualization Embarked')\n",
    "sns.countplot(x='Embarked',data=titanic_df,palette='Set1')\n",
    "plt.show()"
   ]
  },
  {
   "cell_type": "markdown",
   "metadata": {
    "_cell_guid": "684c308f-25ae-4039-9332-ddb58953a054",
    "_uuid": "3609e785d210d5a8110f7ce550e61007d066449b"
   },
   "source": [
    "### 2.3 Final Adjustments to Data (Train & Test) <a class=\"anchor\" id=\"2.3-bullet\"></a>\n",
    "\n",
    "> Based on my assessment of the missing values in the dataset, I'll make the following changes to the data:\n",
    "> * If \"Age\" is missing for a given row, I'll impute with 28 (median age).\n",
    "> * If \"Embark\" is missing for a riven row, I'll impute with \"S\" (the most common boarding port).\n",
    "> * I'll ignore \"Cabin\" as a variable.  There are too many missing values for imputation.  Based on the information available, it appears that this value is associated with the passenger's class and fare paid."
   ]
  },
  {
   "cell_type": "code",
   "execution_count": 8,
   "metadata": {
    "_cell_guid": "bc0d7121-1008-4890-9043-07eba1524e15",
    "_uuid": "feeed4b6775f88edf5de12b0ee6ee73c16eba61d"
   },
   "outputs": [],
   "source": [
    "train_data = titanic_df\n",
    "train_data[\"Age\"].fillna(28, inplace=True)\n",
    "train_data[\"Embarked\"].fillna(\"S\", inplace=True)\n",
    "train_data.drop('Cabin', axis=1, inplace=True)"
   ]
  },
  {
   "cell_type": "markdown",
   "metadata": {
    "_cell_guid": "6925fcc2-977b-4369-85e1-77a9210326a7",
    "_uuid": "d8280757e6bc627821fb0540c87ccd6ca110f1e0"
   },
   "source": [
    "### 2.4 Additional Variables <a class=\"anchor\" id=\"2.4-bullet\"></a>\n",
    "\n",
    "> According to the Kaggle data dictionary, both SibSp and Parch relate to traveling with family.  For simplicity's sake (and to account for possible multicollinearity), we will combine the effect of these variables into one categorical predictor: whether or not that individual was traveling alone."
   ]
  },
  {
   "cell_type": "code",
   "execution_count": 9,
   "metadata": {
    "_cell_guid": "759c3c8e-8db6-41d9-a1a2-058a15b338a6",
    "_uuid": "d1f5815ba663f7e8cc17d7efcff73653af5b1bdb"
   },
   "outputs": [],
   "source": [
    "## Create categorical variable for traveling alone\n",
    "train_data['TravelBuds']=train_data[\"SibSp\"]+train_data[\"Parch\"]\n",
    "train_data['TravelAlone']=np.where(train_data['TravelBuds']>0, 0, 1)\n",
    "\n",
    "train_data.drop('SibSp', axis=1, inplace=True)\n",
    "train_data.drop('Parch', axis=1, inplace=True)\n",
    "train_data.drop('TravelBuds', axis=1, inplace=True)\n",
    "\n",
    "#create categorical variable for Pclass || ONE HOT ENCODING\n",
    "train2 = pd.get_dummies(train_data, columns=[\"Pclass\"])\n",
    "\n",
    "train3 = pd.get_dummies(train2, columns=[\"Embarked\"])\n",
    "\n",
    "train4=pd.get_dummies(train3, columns=[\"Sex\"])\n",
    "train4.drop('Sex_female', axis=1, inplace=True)\n",
    "\n",
    "#Drop Unwanted\n",
    "train4.drop('PassengerId', axis=1, inplace=True)\n",
    "train4.drop('Name', axis=1, inplace=True)\n",
    "train4.drop('Ticket', axis=1, inplace=True)\n",
    "train4.head(5)\n",
    "df_final = train4"
   ]
  },
  {
   "cell_type": "markdown",
   "metadata": {
    "_cell_guid": "768cf074-6ecb-47eb-9b42-8b9079ffb811",
    "_uuid": "6a8e533e77c7f1f1a68d136119f93972447a31cf"
   },
   "source": [
    "### Apply the same changes to the test data. <br>\n"
   ]
  },
  {
   "cell_type": "code",
   "execution_count": 10,
   "metadata": {
    "_cell_guid": "8b9ef076-3669-4339-8d10-0d8783a92e07",
    "_uuid": "145675b90aa2befa533c640aaedd4bf8069b12d4"
   },
   "outputs": [],
   "source": [
    "test_df[\"Age\"].fillna(28, inplace=True)\n",
    "test_df[\"Fare\"].fillna(14.45, inplace=True)\n",
    "test_df.drop('Cabin', axis=1, inplace=True)"
   ]
  },
  {
   "cell_type": "code",
   "execution_count": 11,
   "metadata": {
    "_cell_guid": "f848ce97-6644-485d-b6e9-ed18f79b34ce",
    "_uuid": "746e1803237da93829db0c6bf926a83b7dada86a"
   },
   "outputs": [],
   "source": [
    "test_df['TravelBuds']=test_df[\"SibSp\"]+test_df[\"Parch\"]\n",
    "test_df['TravelAlone']=np.where(test_df['TravelBuds']>0, 0, 1)\n",
    "\n",
    "test_df.drop('SibSp', axis=1, inplace=True)\n",
    "test_df.drop('Parch', axis=1, inplace=True)\n",
    "test_df.drop('TravelBuds', axis=1, inplace=True)\n",
    "\n",
    "test2 = pd.get_dummies(test_df, columns=[\"Pclass\"])\n",
    "test3 = pd.get_dummies(test2, columns=[\"Embarked\"])\n",
    "\n",
    "test4=pd.get_dummies(test3, columns=[\"Sex\"])\n",
    "test4.drop('Sex_female', axis=1, inplace=True)\n",
    "\n",
    "test4.drop('PassengerId', axis=1, inplace=True)\n",
    "test4.drop('Name', axis=1, inplace=True)\n",
    "test4.drop('Ticket', axis=1, inplace=True)\n",
    "final_test = test4"
   ]
  },
  {
   "cell_type": "code",
   "execution_count": 12,
   "metadata": {
    "_cell_guid": "760a79a0-4fa2-4f20-8745-b38b8015f919",
    "_uuid": "bb3cc11f5e5b138f31a58fd7e242a43f73e14f0f"
   },
   "outputs": [
    {
     "data": {
      "text/html": [
       "<div>\n",
       "<style scoped>\n",
       "    .dataframe tbody tr th:only-of-type {\n",
       "        vertical-align: middle;\n",
       "    }\n",
       "\n",
       "    .dataframe tbody tr th {\n",
       "        vertical-align: top;\n",
       "    }\n",
       "\n",
       "    .dataframe thead th {\n",
       "        text-align: right;\n",
       "    }\n",
       "</style>\n",
       "<table border=\"1\" class=\"dataframe\">\n",
       "  <thead>\n",
       "    <tr style=\"text-align: right;\">\n",
       "      <th></th>\n",
       "      <th>Age</th>\n",
       "      <th>Fare</th>\n",
       "      <th>TravelAlone</th>\n",
       "      <th>Pclass_1</th>\n",
       "      <th>Pclass_2</th>\n",
       "      <th>Pclass_3</th>\n",
       "      <th>Embarked_C</th>\n",
       "      <th>Embarked_Q</th>\n",
       "      <th>Embarked_S</th>\n",
       "      <th>Sex_male</th>\n",
       "    </tr>\n",
       "  </thead>\n",
       "  <tbody>\n",
       "    <tr>\n",
       "      <th>0</th>\n",
       "      <td>34.5</td>\n",
       "      <td>7.8292</td>\n",
       "      <td>1</td>\n",
       "      <td>0</td>\n",
       "      <td>0</td>\n",
       "      <td>1</td>\n",
       "      <td>0</td>\n",
       "      <td>1</td>\n",
       "      <td>0</td>\n",
       "      <td>1</td>\n",
       "    </tr>\n",
       "    <tr>\n",
       "      <th>1</th>\n",
       "      <td>47.0</td>\n",
       "      <td>7.0000</td>\n",
       "      <td>0</td>\n",
       "      <td>0</td>\n",
       "      <td>0</td>\n",
       "      <td>1</td>\n",
       "      <td>0</td>\n",
       "      <td>0</td>\n",
       "      <td>1</td>\n",
       "      <td>0</td>\n",
       "    </tr>\n",
       "    <tr>\n",
       "      <th>2</th>\n",
       "      <td>62.0</td>\n",
       "      <td>9.6875</td>\n",
       "      <td>1</td>\n",
       "      <td>0</td>\n",
       "      <td>1</td>\n",
       "      <td>0</td>\n",
       "      <td>0</td>\n",
       "      <td>1</td>\n",
       "      <td>0</td>\n",
       "      <td>1</td>\n",
       "    </tr>\n",
       "    <tr>\n",
       "      <th>3</th>\n",
       "      <td>27.0</td>\n",
       "      <td>8.6625</td>\n",
       "      <td>1</td>\n",
       "      <td>0</td>\n",
       "      <td>0</td>\n",
       "      <td>1</td>\n",
       "      <td>0</td>\n",
       "      <td>0</td>\n",
       "      <td>1</td>\n",
       "      <td>1</td>\n",
       "    </tr>\n",
       "    <tr>\n",
       "      <th>4</th>\n",
       "      <td>22.0</td>\n",
       "      <td>12.2875</td>\n",
       "      <td>0</td>\n",
       "      <td>0</td>\n",
       "      <td>0</td>\n",
       "      <td>1</td>\n",
       "      <td>0</td>\n",
       "      <td>0</td>\n",
       "      <td>1</td>\n",
       "      <td>0</td>\n",
       "    </tr>\n",
       "  </tbody>\n",
       "</table>\n",
       "</div>"
      ],
      "text/plain": [
       "    Age     Fare  TravelAlone  Pclass_1  Pclass_2  Pclass_3  Embarked_C  \\\n",
       "0  34.5   7.8292            1         0         0         1           0   \n",
       "1  47.0   7.0000            0         0         0         1           0   \n",
       "2  62.0   9.6875            1         0         1         0           0   \n",
       "3  27.0   8.6625            1         0         0         1           0   \n",
       "4  22.0  12.2875            0         0         0         1           0   \n",
       "\n",
       "   Embarked_Q  Embarked_S  Sex_male  \n",
       "0           1           0         1  \n",
       "1           0           1         0  \n",
       "2           1           0         1  \n",
       "3           0           1         1  \n",
       "4           0           1         0  "
      ]
     },
     "execution_count": 12,
     "metadata": {},
     "output_type": "execute_result"
    }
   ],
   "source": [
    "final_test.head(5)"
   ]
  },
  {
   "cell_type": "markdown",
   "metadata": {
    "_cell_guid": "1430d510-1c8d-4544-8009-3911fff7afbb",
    "_uuid": "4e26c19bf719b7086addc0e1981c00836a19f189"
   },
   "source": [
    "## 3. Exploratory Data Analysis <a class=\"anchor\" id=\"3-bullet\"></a>"
   ]
  },
  {
   "cell_type": "markdown",
   "metadata": {
    "_cell_guid": "2655428b-d69d-4c0f-85ff-e31ada8e37b9",
    "_uuid": "32e9c04a3281fb1aa8c77e1406c56cd820459202"
   },
   "source": [
    "## 3.1 Exploration of Age <a class=\"anchor\" id=\"3.1-bullet\"></a>"
   ]
  },
  {
   "cell_type": "code",
   "execution_count": 13,
   "metadata": {
    "_cell_guid": "9f9ca9e5-50a0-4487-ba53-815dda90af1c",
    "_uuid": "790e8d7ca89d19e276b3398e299c42893a796b79"
   },
   "outputs": [
    {
     "name": "stdout",
     "output_type": "stream",
     "text": [
      "\u001b[0;32mDensity Plot of Age for Surviving Population and Deceased Population\n"
     ]
    },
    {
     "data": {
      "image/png": "[encoded data removed]",
      "text/plain": [
       "<Figure size 1080x576 with 1 Axes>"
      ]
     },
     "metadata": {},
     "output_type": "display_data"
    }
   ],
   "source": [
    "sys.stdout.write(GREEN)\n",
    "print(\"Density Plot of Age for Surviving Population and Deceased Population\")\n",
    "plt.figure(figsize=(15,8))\n",
    "sns.kdeplot(titanic_df[\"Age\"][df_final.Survived == 1], color=\"darkturquoise\", shade=True)\n",
    "sns.kdeplot(titanic_df[\"Age\"][df_final.Survived == 0], color=\"lightcoral\", shade=True)\n",
    "plt.legend(['Survived', 'Died'])\n",
    "plt.title('Density Plot of Age for Surviving Population and Deceased Population')\n",
    "plt.show()\n"
   ]
  },
  {
   "cell_type": "markdown",
   "metadata": {
    "_cell_guid": "8e304d72-27f3-41cf-863f-63872f4c37df",
    "_uuid": "6c5625b454f5e01dd6b6d843d801851c14c64d1e"
   },
   "source": [
    "> The age distribution for survivors and deceased is actually very similar.  One notable difference is that, of the survivors, a larger proportion were children.  The passengers evidently made an attempt to save children by giving them a place on the life rafts. "
   ]
  },
  {
   "cell_type": "code",
   "execution_count": 14,
   "metadata": {
    "_cell_guid": "d2aa9f59-c433-4258-b8db-225b63a5eab6",
    "_uuid": "9cf1794d9db2fdc314c20ca97a76e9470e81a354"
   },
   "outputs": [
    {
     "data": {
      "image/png": "[encoded data removed]",
      "text/plain": [
       "<Figure size 1800x576 with 1 Axes>"
      ]
     },
     "metadata": {},
     "output_type": "display_data"
    }
   ],
   "source": [
    "plt.figure(figsize=(25,8))\n",
    "avg_survival_byage = df_final[[\"Age\", \"Survived\"]].groupby(['Age'],as_index=False).mean()\n",
    "g = sns.barplot(x='Age', y='Survived', data=avg_survival_byage, color=\"LightSeaGreen\")\n"
   ]
  },
  {
   "cell_type": "markdown",
   "metadata": {
    "_cell_guid": "0b636440-ab38-46a8-8cc9-9421683d5c0b",
    "_uuid": "67051cf653243b3103c9f8015c501d89d92bd3bc"
   },
   "source": [
    "> Considering the survival rate of passengers under 16, I'll also include another categorical variable in my dataset: \"Minor\""
   ]
  },
  {
   "cell_type": "code",
   "execution_count": 15,
   "metadata": {
    "_cell_guid": "1655b49b-b33f-4236-8b31-d995ef26c6f6",
    "_uuid": "8918defa6e17b83c700ea45357ebd67a3a22f02f"
   },
   "outputs": [],
   "source": [
    "df_final['IsMinor']=np.where(train_data['Age']<=16, 1, 0)"
   ]
  },
  {
   "cell_type": "code",
   "execution_count": 16,
   "metadata": {
    "_cell_guid": "45a48287-86eb-4853-be6a-e5be295ce9ed",
    "_uuid": "8773bbf9277fd1baec3e4becd11d7b5bf32c2463"
   },
   "outputs": [],
   "source": [
    "final_test['IsMinor']=np.where(final_test['Age']<=16, 1, 0)"
   ]
  },
  {
   "cell_type": "markdown",
   "metadata": {
    "_cell_guid": "a643b196-91c6-4b12-9463-0f984fbfc91a",
    "_uuid": "337b3ced0c6423cf1d126f23a7e60c0181af6a47"
   },
   "source": [
    "## 3.2 Exploration of Fare <a class=\"anchor\" id=\"3.2-bullet\"></a>"
   ]
  },
  {
   "cell_type": "code",
   "execution_count": 17,
   "metadata": {
    "_cell_guid": "9f31ffe1-7cd8-4169-b193-ed44e56d0bd4",
    "_uuid": "4a1c521f08460f6983eca0c4e01294fb7c86e4f9"
   },
   "outputs": [
    {
     "data": {
      "image/png": "[encoded data removed]",
      "text/plain": [
       "<Figure size 1080x576 with 1 Axes>"
      ]
     },
     "metadata": {},
     "output_type": "display_data"
    }
   ],
   "source": [
    "plt.figure(figsize=(15,8))\n",
    "sns.kdeplot(df_final[\"Fare\"][titanic_df.Survived == 1], color=\"#e74c3c\", shade=True)\n",
    "sns.kdeplot(df_final[\"Fare\"][titanic_df.Survived == 0], color=\"#3498db\", shade=True)\n",
    "plt.legend(['Survived', 'Died'])\n",
    "plt.title('Density Plot of Fare for Surviving Population and Deceased Population')\n",
    "# limit x axis to zoom on most information. there are a few outliers in fare. \n",
    "plt.xlim(-20,200)\n",
    "plt.show()"
   ]
  },
  {
   "cell_type": "markdown",
   "metadata": {
    "_cell_guid": "cf585311-4029-4be4-8af2-3eea8258801a",
    "_uuid": "4524affda51265ea23fa923e2ea7f93d7bb91875"
   },
   "source": [
    "## 3.3 Exploration of Passenger Class <a class=\"anchor\" id=\"3.3-bullet\"></a>"
   ]
  },
  {
   "cell_type": "code",
   "execution_count": 18,
   "metadata": {
    "_cell_guid": "676548e8-6dd4-4180-800c-7b164acb3877",
    "_uuid": "08fd677214959e0b938a0f8a94b63ab548673ea5"
   },
   "outputs": [
    {
     "data": {
      "image/png": "[encoded data removed]",
      "text/plain": [
       "<Figure size 432x288 with 1 Axes>"
      ]
     },
     "metadata": {},
     "output_type": "display_data"
    }
   ],
   "source": [
    "sns.barplot('Pclass', 'Survived', data=titanic_df, color=\"#2ecc71\")\n",
    "plt.show()"
   ]
  },
  {
   "cell_type": "markdown",
   "metadata": {
    "_cell_guid": "193233f8-b220-4cae-aa0f-f822316d5623",
    "_uuid": "8ddb19191253a6e09dfcb0beff2b3690f1052d52"
   },
   "source": [
    "> Unsurprisingly, being a first class passenger was safest."
   ]
  },
  {
   "cell_type": "markdown",
   "metadata": {
    "_cell_guid": "c59f8e8f-e8c2-40fb-b9c8-12dddd6d318f",
    "_uuid": "2fc06b75321946b721852f78431435f9ba5fef39"
   },
   "source": [
    "## 3.4 Exploration of Embarked Port <a class=\"anchor\" id=\"3.4-bullet\"></a>"
   ]
  },
  {
   "cell_type": "code",
   "execution_count": 19,
   "metadata": {
    "_cell_guid": "6e5bec50-2f5e-433e-9130-c56956fddad3",
    "_uuid": "a9f0598701c7c5224eaa73dafa869af73beffe18"
   },
   "outputs": [
    {
     "data": {
      "image/png": "[encoded data removed]",
      "text/plain": [
       "<Figure size 432x288 with 1 Axes>"
      ]
     },
     "metadata": {},
     "output_type": "display_data"
    }
   ],
   "source": [
    "sns.barplot('Embarked', 'Survived', data=titanic_df, color=\"#2ecc71\")\n",
    "plt.show()"
   ]
  },
  {
   "cell_type": "markdown",
   "metadata": {
    "_cell_guid": "9e6dc87e-ba59-4004-8145-79709328fe27",
    "_uuid": "92bacce85a7dec5509217b9570bc2a2fea6a8452"
   },
   "source": [
    "## 3.5 Exploration of Traveling Alone vs. With Family <a class=\"anchor\" id=\"3.5-bullet\"></a>"
   ]
  },
  {
   "cell_type": "code",
   "execution_count": 20,
   "metadata": {
    "_cell_guid": "67017a88-93d4-412b-9adf-8b4d1d9b9db0",
    "_uuid": "e0c3dc16292ef0bcabf0fc680d821ef654084ab4"
   },
   "outputs": [
    {
     "data": {
      "image/png": "[encoded data removed]",
      "text/plain": [
       "<Figure size 432x288 with 1 Axes>"
      ]
     },
     "metadata": {},
     "output_type": "display_data"
    }
   ],
   "source": [
    "sns.barplot('TravelAlone', 'Survived', data=df_final, color=\"#2ecc71\")\n",
    "plt.show()"
   ]
  },
  {
   "cell_type": "markdown",
   "metadata": {
    "_cell_guid": "e9e68cef-5e74-46aa-8343-39afbbf00efe",
    "_uuid": "f160bd7399e024ae669d55f09caf6e7902768851"
   },
   "source": [
    "> Individuals traveling without family were more likely to die in the disaster than those with family aboard.  Given the era, it's likely that individuals traveling alone were likely male."
   ]
  },
  {
   "cell_type": "markdown",
   "metadata": {
    "_cell_guid": "c833cbf5-74db-44ff-90fa-b600ff0a09d7",
    "_uuid": "39dbc095f99dcec6d25a7a4561e81bb641078622"
   },
   "source": [
    "## 4. Logistic Regression <a class=\"anchor\" id=\"4-bullet\"></a>"
   ]
  },
  {
   "cell_type": "code",
   "execution_count": 21,
   "metadata": {
    "_cell_guid": "fdc40c40-81fb-4bab-bbb3-562d5416dc57",
    "_uuid": "69ff389cd4ae7702c907ba252080ac81350ca477"
   },
   "outputs": [],
   "source": [
    "cols=[\"Age\", \"Fare\", \"TravelAlone\", \"Pclass_1\", \"Pclass_2\",\"Embarked_C\",\"Embarked_S\",\"Sex_male\",\"IsMinor\"] \n",
    "X=df_final[cols]\n",
    "Y=df_final['Survived']"
   ]
  },
  {
   "cell_type": "code",
   "execution_count": 22,
   "metadata": {
    "_cell_guid": "9f2a9b35-d553-4321-8e64-4d8a21cba48d",
    "_uuid": "81fbdbb236fba1be540ecb6903505a2b6457f855"
   },
   "outputs": [
    {
     "name": "stdout",
     "output_type": "stream",
     "text": [
      "Optimization terminated successfully.\n",
      "         Current function value: 0.450348\n",
      "         Iterations 6\n",
      "\u001b[0;32m                           Logit Regression Results                           \n",
      "==============================================================================\n",
      "Dep. Variable:               Survived   No. Observations:                  891\n",
      "Model:                          Logit   Df Residuals:                      882\n",
      "Method:                           MLE   Df Model:                            8\n",
      "Date:                Mon, 05 Oct 2020   Pseudo R-squ.:                  0.3237\n",
      "Time:                        06:21:05   Log-Likelihood:                -401.26\n",
      "converged:                       True   LL-Null:                       -593.33\n",
      "Covariance Type:            nonrobust   LLR p-value:                 4.627e-78\n",
      "===============================================================================\n",
      "                  coef    std err          z      P>|z|      [0.025      0.975]\n",
      "-------------------------------------------------------------------------------\n",
      "Age            -0.0096      0.007     -1.372      0.170      -0.023       0.004\n",
      "Fare            0.0018      0.002      0.807      0.420      -0.003       0.006\n",
      "TravelAlone     0.3520      0.193      1.828      0.068      -0.025       0.729\n",
      "Pclass_1        2.0491      0.276      7.424      0.000       1.508       2.590\n",
      "Pclass_2        1.2940      0.231      5.593      0.000       0.841       1.747\n",
      "Embarked_C      0.5627      0.317      1.778      0.075      -0.058       1.183\n",
      "Embarked_S      0.0093      0.256      0.036      0.971      -0.492       0.511\n",
      "Sex_male       -2.5915      0.200    -12.979      0.000      -2.983      -2.200\n",
      "IsMinor         1.0566      0.311      3.402      0.001       0.448       1.665\n",
      "===============================================================================\n"
     ]
    }
   ],
   "source": [
    "import statsmodels.api as sm\n",
    "from scipy import stats\n",
    "stats.chisqprob = lambda chisq, df: stats.chi2.sf(chisq, df)\n",
    "logit_model=sm.Logit(Y,X)\n",
    "result=logit_model.fit()\n",
    "sys.stdout.write(GREEN)\n",
    "print(result.summary())"
   ]
  },
  {
   "cell_type": "markdown",
   "metadata": {
    "_cell_guid": "b1b3b56f-2f5f-47d6-9375-62c11e49ce79",
    "_uuid": "e9d52d5b182c0a01218982e844e53d5278e0d98a"
   },
   "source": [
    "> Nearly all variables are significant at the 0.05 alpha level, but we'll run the model again without Fare and TravelAlone (removed one at a time, results didn't change much.  In the end removed both).  I also removed \"IsMinor\" from this regression, as the information provided is redundant to the Age variable."
   ]
  },
  {
   "cell_type": "code",
   "execution_count": 23,
   "metadata": {
    "_cell_guid": "febd185a-bc4b-4210-b1f6-a10954bbdfaa",
    "_uuid": "9d87357aa13931e9f0a0379a480d262b198a227f"
   },
   "outputs": [
    {
     "name": "stdout",
     "output_type": "stream",
     "text": [
      "Optimization terminated successfully.\n",
      "         Current function value: 0.458585\n",
      "         Iterations 6\n",
      "\u001b[0;32m                           Logit Regression Results                           \n",
      "==============================================================================\n",
      "Dep. Variable:               Survived   No. Observations:                  891\n",
      "Model:                          Logit   Df Residuals:                      885\n",
      "Method:                           MLE   Df Model:                            5\n",
      "Date:                Mon, 05 Oct 2020   Pseudo R-squ.:                  0.3113\n",
      "Time:                        06:21:05   Log-Likelihood:                -408.60\n",
      "converged:                       True   LL-Null:                       -593.33\n",
      "Covariance Type:            nonrobust   LLR p-value:                 1.131e-77\n",
      "==============================================================================\n",
      "                 coef    std err          z      P>|z|      [0.025      0.975]\n",
      "------------------------------------------------------------------------------\n",
      "Age           -0.0158      0.006     -2.602      0.009      -0.028      -0.004\n",
      "Pclass_1       2.0449      0.238      8.604      0.000       1.579       2.511\n",
      "Pclass_2       1.2598      0.226      5.564      0.000       0.816       1.704\n",
      "Embarked_C     1.0698      0.279      3.836      0.000       0.523       1.616\n",
      "Embarked_S     0.5129      0.218      2.350      0.019       0.085       0.941\n",
      "Sex_male      -2.4625      0.187    -13.194      0.000      -2.828      -2.097\n",
      "==============================================================================\n"
     ]
    }
   ],
   "source": [
    "cols2=[\"Age\", \"Pclass_1\", \"Pclass_2\",\"Embarked_C\",\"Embarked_S\",\"Sex_male\"]  \n",
    "X2=df_final[cols2]\n",
    "Y=df_final['Survived']\n",
    "\n",
    "logit_model=sm.Logit(Y,X2)\n",
    "result=logit_model.fit()\n",
    "sys.stdout.write(GREEN)\n",
    "print(result.summary())"
   ]
  },
  {
   "cell_type": "code",
   "execution_count": 24,
   "metadata": {
    "_cell_guid": "9cef2c68-0004-4581-9474-391318843cec",
    "_uuid": "e0b25290f527ae75c125fe07d175504ae762bf84"
   },
   "outputs": [
    {
     "name": "stdout",
     "output_type": "stream",
     "text": [
      "Model Accuracy : 79.12%\n"
     ]
    }
   ],
   "source": [
    "from sklearn.linear_model import LogisticRegression\n",
    "\n",
    "logreg = LogisticRegression()\n",
    "logreg.fit(X2, Y)\n",
    "\n",
    "print(\"Model Accuracy : {:.2f}%\".format(logreg.score(X2, Y)*100))"
   ]
  },
  {
   "cell_type": "markdown",
   "metadata": {
    "_cell_guid": "fec69951-fd95-45d8-ba9c-8735721831b1",
    "_uuid": "907d61b84f6f76ef3f8efb9a62f68a03d5de04b8"
   },
   "source": [
    "## 4.3 Using 75-25 Split for Cross Validation <a class=\"anchor\" id=\"4.3-bullet\"></a>"
   ]
  },
  {
   "cell_type": "code",
   "execution_count": 25,
   "metadata": {
    "_cell_guid": "8cb5c46c-41c4-4748-971c-f820bde62e55",
    "_uuid": "7ee14c32600b2a42f365d671f146d30ebe474452"
   },
   "outputs": [],
   "source": [
    "from sklearn.model_selection import train_test_split\n",
    "train, test = train_test_split(df_final, test_size=0.25)"
   ]
  },
  {
   "cell_type": "code",
   "execution_count": 26,
   "metadata": {
    "_cell_guid": "677e898c-6efb-43cd-a31c-12e219cae53b",
    "_uuid": "0f05e45e32cb8e81cd14db4e33bd532d011f8a75"
   },
   "outputs": [],
   "source": [
    "#re-fit logistic regression on new train sample\n",
    "\n",
    "cols2=[\"Age\", \"Pclass_1\", \"Pclass_2\",\"Embarked_C\",\"Embarked_S\",\"Sex_male\"] \n",
    "X3=train[cols2]\n",
    "Y3=train['Survived']\n",
    "logit_model3=sm.Logit(Y3,X3)"
   ]
  },
  {
   "cell_type": "code",
   "execution_count": 27,
   "metadata": {
    "_cell_guid": "9010d0f8-a9a7-4174-984c-ee948581bab8",
    "_uuid": "14f0d5843c0e7d9685538436ae9a65745cdc41cf"
   },
   "outputs": [
    {
     "name": "stdout",
     "output_type": "stream",
     "text": [
      "\u001b[0;32mModel Accuracy : 79.64%\n"
     ]
    }
   ],
   "source": [
    "from sklearn.linear_model import LogisticRegression\n",
    "from sklearn import metrics\n",
    "\n",
    "logreg = LogisticRegression()\n",
    "logreg.fit(X3, Y3)\n",
    "sys.stdout.write(GREEN)\n",
    "print(\"Model Accuracy : {:.2f}%\".format(logreg.score(X3, Y3)*100))"
   ]
  },
  {
   "cell_type": "markdown",
   "metadata": {
    "_cell_guid": "85a23b6a-7506-4c0b-9e88-c782543672f3",
    "_uuid": "e2d06f6339c48f50f4cd42cbe8186597b8c5b59e"
   },
   "source": [
    "> The score for the new training sample (75% of original) is very close to the original performance, which is good!<br>\n",
    "> Let's assess how well it scores on the 25% hold-out sample."
   ]
  },
  {
   "cell_type": "code",
   "execution_count": 28,
   "metadata": {
    "_cell_guid": "f9246036-0c71-4875-b5fb-2e6db5b17076",
    "_uuid": "837ef204f480adcebad0ccfdc5508bcad82ca3bd"
   },
   "outputs": [
    {
     "name": "stdout",
     "output_type": "stream",
     "text": [
      "\u001b[0;32mAccuracy of logistic regression classifier on test set: 77.13\n"
     ]
    }
   ],
   "source": [
    "from sklearn import metrics\n",
    "logreg.fit(X3, Y3)\n",
    "\n",
    "X3_test = test[cols2]\n",
    "Y3_test = test['Survived']\n",
    "\n",
    "Y3test_pred = logreg.predict(X3_test)\n",
    "sys.stdout.write(GREEN)\n",
    "print('Accuracy of logistic regression classifier on test set: {:.2f}'.format(logreg.score(X3_test, Y3_test)*100))"
   ]
  },
  {
   "cell_type": "markdown",
   "metadata": {
    "_cell_guid": "cd1b53cf-5e59-4a86-b034-4a205b949915",
    "_uuid": "9d57dfdb1b26ab2447ad391d70af8ef91e573e46"
   },
   "source": [
    "# 4.4 Out-of-sample Assessment <br> <a class=\"anchor\" id=\"4.4-bullet\"></a>"
   ]
  },
  {
   "cell_type": "markdown",
   "metadata": {
    "_cell_guid": "f485ca4c-2172-4383-979e-21e78a66192c",
    "_uuid": "ec44fbaddbc23f03a8ac470391f41ce35f40cf72"
   },
   "source": [
    "### Assessing the model's performance based on Cross Validation ROC/AUC "
   ]
  },
  {
   "cell_type": "code",
   "execution_count": 29,
   "metadata": {
    "_cell_guid": "5404f653-701a-48a6-a0e0-624a40149d74",
    "_uuid": "354d8663b9219459737c651e57a968bcd97e7843"
   },
   "outputs": [
    {
     "name": "stdout",
     "output_type": "stream",
     "text": [
      "\u001b[0;32mModel ROC_AUC : 0.78%\n"
     ]
    }
   ],
   "source": [
    "# Model's in sample AUC\n",
    "\n",
    "from sklearn.metrics import roc_auc_score\n",
    "logreg.fit(X3, Y3)\n",
    "Y3_pred = logreg.predict(X3)\n",
    "\n",
    "y_true = Y3\n",
    "y_scores = Y3_pred\n",
    "sys.stdout.write(GREEN)\n",
    "print(\"Model ROC_AUC : {:.2f}%\".format(roc_auc_score(y_true, y_scores)))"
   ]
  },
  {
   "cell_type": "code",
   "execution_count": 30,
   "metadata": {
    "_cell_guid": "85546d4a-b9ed-4427-b565-445fe9219ab5",
    "_kg_hide-input": true,
    "_kg_hide-output": true,
    "_uuid": "a9172d2bffa265ea5fadfbf548f70d7e13f84e8b"
   },
   "outputs": [
    {
     "name": "stdout",
     "output_type": "stream",
     "text": [
      "\u001b[0;32mROC AUC: 0.830\n"
     ]
    },
    {
     "data": {
      "image/png": "[encoded data removed]",
      "text/plain": [
       "<Figure size 720x720 with 1 Axes>"
      ]
     },
     "metadata": {},
     "output_type": "display_data"
    }
   ],
   "source": [
    "#Visualizing the model's ROC curve (**source for graph code given below the plot)\n",
    "from sklearn.metrics import roc_curve, auc\n",
    "logreg.fit(X3, Y3)\n",
    "\n",
    "y_test = Y3_test\n",
    "X_test = X3_test\n",
    " \n",
    "# Determine the false positive and true positive rates\n",
    "FPR, TPR, _ = roc_curve(y_test, logreg.predict_proba(X_test)[:,1])\n",
    " \n",
    "# Calculate the AUC\n",
    "sys.stdout.write(GREEN)\n",
    "roc_auc = auc(FPR, TPR)\n",
    "print ('ROC AUC: %0.3f' % roc_auc )\n",
    " \n",
    "# Plot of a ROC curve\n",
    "plt.figure(figsize=(10,10))\n",
    "plt.plot(FPR, TPR, label='ROC curve (area = %0.3f)' % roc_auc)\n",
    "plt.plot([0, 1], [0, 1], 'k--')\n",
    "plt.xlim([-0.05, 1.0])\n",
    "plt.ylim([0.0, 1.05])\n",
    "plt.xlabel('False Positive Rate')\n",
    "plt.ylabel('True Positive Rate')\n",
    "plt.title('ROC Curve (Test Sample Performance)')\n",
    "plt.legend(loc=\"lower right\")\n",
    "plt.show()"
   ]
  },
  {
   "cell_type": "markdown",
   "metadata": {
    "_cell_guid": "68b656b0-66f2-4418-9013-f243dc386bfc",
    "_uuid": "fb2a0c6234fb538fa0be9c090a58b4a277a7ce5a"
   },
   "source": [
    "> An AUC score of 0.5 is effectively as good as the flip of a coin, and means that the model really has no classification power at all between the positive and negative occurences. The AUC for both the test and train samples when run on my logistic regression demonstrates relatively strong power of separation between positive and negative occurences (survived - 1, died - 0)."
   ]
  },
  {
   "cell_type": "markdown",
   "metadata": {
    "_cell_guid": "f8225667-0fe0-4641-98a5-fbba2eaa3d6f",
    "_uuid": "f29821f4daae995de78bfa338688fba748a9980c"
   },
   "source": [
    "# 4.5 Logistic Regression Conclusion<br> <a class=\"anchor\" id=\"4.5-bullet\"></a>\n",
    "> Based on my analysis, if you were to be aboard the Titanic, your chances of survival were best if you fit the following criteria:<br>\n",
    "> * Female\n",
    "> * Young\n",
    "> * In First Class \n",
    "> * Embarked in Cherbourg France\n"
   ]
  },
  {
   "cell_type": "markdown",
   "metadata": {
    "_cell_guid": "82d95e6d-a700-4c77-bf29-04f9d58777ea",
    "_uuid": "740bc96266c96981ada150cc9d50a4056267aca1"
   },
   "source": [
    "## 5. Random Forest Estimation <a class=\"anchor\" id=\"5-bullet\"></a>"
   ]
  },
  {
   "cell_type": "markdown",
   "metadata": {
    "_cell_guid": "ec2960f5-cf81-4668-a79c-5e9c167a8be0",
    "_uuid": "44338a78cc26f5fa823ab1f29e04eae415e66d52"
   },
   "source": [
    "> Our Logistic Regression is effective and easy to interpret, but there are other ML techniques which could provide a more accurate prediction.  Random forests, a tree-based machine learning technique, often provide more accurate results than Logistic Regression classifier models.  With respect to tree growth, performance tends to taper off after a certain number of trees are grown. <br> <br>\n",
    "> A random forest is a meta estimator that fits a number of decision tree classifiers on various sub-samples of the dataset and uses averaging to improve the predictive accuracy and control over-fitting. "
   ]
  },
  {
   "cell_type": "code",
   "execution_count": 31,
   "metadata": {
    "_cell_guid": "f3cc0e9e-b508-4fb2-8159-af6541137bfe",
    "_uuid": "f25ecf956a5b9447f743c8901b9359299fea1ed8"
   },
   "outputs": [
    {
     "name": "stdout",
     "output_type": "stream",
     "text": [
      "\u001b[0;32mROC AUC: 0.980\n"
     ]
    }
   ],
   "source": [
    "from sklearn.ensemble import RandomForestClassifier\n",
    "\n",
    "cols=[\"Age\", \"Fare\", \"TravelAlone\", \"Pclass_1\", \"Pclass_2\",\"Embarked_C\",\"Embarked_S\",\"Sex_male\",\"IsMinor\"] \n",
    "X=df_final[cols]\n",
    "Y=df_final['Survived']\n",
    "\n",
    "random_forest = RandomForestClassifier(n_estimators=100)\n",
    "random_forest.fit(X, Y)\n",
    "sys.stdout.write(GREEN)\n",
    "print ('ROC AUC: %0.3f' % random_forest.score(X, Y) )"
   ]
  },
  {
   "cell_type": "markdown",
   "metadata": {
    "_cell_guid": "57d1a119-6949-4724-817a-6578ff9080b2",
    "_uuid": "0ca07fa68c901ead873cb17b91a11ee409e624b9"
   },
   "source": [
    "## Final RF Submission"
   ]
  },
  {
   "cell_type": "code",
   "execution_count": 32,
   "metadata": {
    "_cell_guid": "73e9ad95-6696-475b-a2eb-27650f8e58e0",
    "_uuid": "d3686a38c1e0859fe53bc070d602151a75a9890c"
   },
   "outputs": [],
   "source": [
    "final_test_RF=final_test[cols]\n",
    "Y_pred_RF = random_forest.predict(final_test_RF)"
   ]
  },
  {
   "cell_type": "code",
   "execution_count": 33,
   "metadata": {
    "_cell_guid": "419771ee-93ed-4dfa-b1b8-2f18db7a16d9",
    "_kg_hide-output": true,
    "_uuid": "f92595b431f087b36d88401424663a6f78a70dba"
   },
   "outputs": [],
   "source": [
    "submission = pd.DataFrame({\n",
    "        \"PassengerId\": test_df[\"PassengerId\"],\n",
    "        \"Survived\": Y_pred_RF\n",
    "    })\n",
    "submission.to_csv('titanic_RF.csv', index=False)"
   ]
  },
  {
   "cell_type": "markdown",
   "metadata": {
    "_cell_guid": "35ccbe8e-4391-4004-b938-519c58ba0e07",
    "_uuid": "9cc581f268a52a688d7b78176f5542a48139d981"
   },
   "source": [
    "## 6. Decision Tree <a class=\"anchor\" id=\"6-bullet\"></a>"
   ]
  },
  {
   "cell_type": "markdown",
   "metadata": {
    "_cell_guid": "609a1cc9-4f88-4690-aa44-58922e84231a",
    "_uuid": "692b2cdfc66aae2f960b3f4f96d59bba7317f751"
   },
   "source": [
    "> Let's try another method- a decision tree.  There is a tradeoff for the additional complexity of utilizing a decision tree as compared to a logistic regression: growing your number of trees too much can subject your model to overfitting and reduce the predictive power of the model.  I've set parameters within the DecisionTreeClassifier from sklearn to help make sure my model is not overfit (too many branches based on the train data).  Some trial and error went into this to determine the optimal number of branches to \"prune\" to achieve strong out-of-sample results.<br><br>\n",
    "> *Note*: Again, I used the same variables for the decision tree as I did in my first logistic regression and in my random forest."
   ]
  },
  {
   "cell_type": "code",
   "execution_count": 34,
   "metadata": {
    "_cell_guid": "19657193-e509-48a9-be7f-ab2227df9634",
    "_uuid": "0b0aa153618008898e516cadba8de78fd1a546b1"
   },
   "outputs": [],
   "source": [
    "from sklearn import tree\n",
    "import graphviz\n",
    "tree1 = tree.DecisionTreeClassifier(criterion='gini', splitter='best',max_depth=3, min_samples_leaf=20)"
   ]
  },
  {
   "cell_type": "code",
   "execution_count": 35,
   "metadata": {
    "_cell_guid": "f1ecec9c-ec77-449c-8120-35e9fbef83db",
    "_uuid": "0be7d6737b3c5207389c6e9b947a0df3b4dbd34b"
   },
   "outputs": [
    {
     "data": {
      "text/plain": [
       "DecisionTreeClassifier(ccp_alpha=0.0, class_weight=None, criterion='gini',\n",
       "                       max_depth=3, max_features=None, max_leaf_nodes=None,\n",
       "                       min_impurity_decrease=0.0, min_impurity_split=None,\n",
       "                       min_samples_leaf=20, min_samples_split=2,\n",
       "                       min_weight_fraction_leaf=0.0, presort='deprecated',\n",
       "                       random_state=None, splitter='best')"
      ]
     },
     "execution_count": 35,
     "metadata": {},
     "output_type": "execute_result"
    }
   ],
   "source": [
    "cols=[\"Age\", \"Fare\", \"TravelAlone\", \"Pclass_1\", \"Pclass_2\",\"Embarked_C\",\"Embarked_S\",\"Sex_male\",\"IsMinor\"] \n",
    "X_DT=df_final[cols]\n",
    "Y_DT=df_final['Survived']\n",
    "\n",
    "tree1.fit(X_DT, Y_DT)"
   ]
  },
  {
   "cell_type": "code",
   "execution_count": 36,
   "metadata": {
    "_cell_guid": "fbaba624-42ca-49db-97a1-a3f4d3442842",
    "_uuid": "39c5670f722187de9de0a188d9ab6abfdb2a1726"
   },
   "outputs": [
    {
     "data": {
      "image/svg+xml": [
       "<?xml version=\"1.0\" encoding=\"UTF-8\" standalone=\"no\"?>\n",
       "<!DOCTYPE svg PUBLIC \"-//W3C//DTD SVG 1.1//EN\"\n",
       " \"http://www.w3.org/Graphics/SVG/1.1/DTD/svg11.dtd\">\n",
       "<!-- Generated by graphviz version 2.40.1 (20161225.0304)\n",
       " -->\n",
       "<!-- Title: Tree Pages: 1 -->\n",
       "<svg width=\"694pt\" height=\"440pt\"\n",
       " viewBox=\"0.00 0.00 694.00 440.00\" xmlns=\"http://www.w3.org/2000/svg\" xmlns:xlink=\"http://www.w3.org/1999/xlink\">\n",
       "<g id=\"graph0\" class=\"graph\" transform=\"scale(1 1) rotate(0) translate(4 436)\">\n",
       "<title>Tree</title>\n",
       "<polygon fill=\"#ffffff\" stroke=\"transparent\" points=\"-4,4 -4,-436 690,-436 690,4 -4,4\"/>\n",
       "<!-- 0 -->\n",
       "<g id=\"node1\" class=\"node\">\n",
       "<title>0</title>\n",
       "<polygon fill=\"none\" stroke=\"#000000\" points=\"149,-245.5 0,-245.5 0,-177.5 149,-177.5 149,-245.5\"/>\n",
       "<text text-anchor=\"middle\" x=\"74.5\" y=\"-230.3\" font-family=\"Times,serif\" font-size=\"14.00\" fill=\"#000000\">Sex_male &lt;= 0.5</text>\n",
       "<text text-anchor=\"middle\" x=\"74.5\" y=\"-215.3\" font-family=\"Times,serif\" font-size=\"14.00\" fill=\"#000000\">gini = 0.473</text>\n",
       "<text text-anchor=\"middle\" x=\"74.5\" y=\"-200.3\" font-family=\"Times,serif\" font-size=\"14.00\" fill=\"#000000\">samples = 891</text>\n",
       "<text text-anchor=\"middle\" x=\"74.5\" y=\"-185.3\" font-family=\"Times,serif\" font-size=\"14.00\" fill=\"#000000\">value = [549, 342]</text>\n",
       "</g>\n",
       "<!-- 1 -->\n",
       "<g id=\"node2\" class=\"node\">\n",
       "<title>1</title>\n",
       "<polygon fill=\"none\" stroke=\"#000000\" points=\"329.5,-288.5 189.5,-288.5 189.5,-220.5 329.5,-220.5 329.5,-288.5\"/>\n",
       "<text text-anchor=\"middle\" x=\"259.5\" y=\"-273.3\" font-family=\"Times,serif\" font-size=\"14.00\" fill=\"#000000\">Pclass_1 &lt;= 0.5</text>\n",
       "<text text-anchor=\"middle\" x=\"259.5\" y=\"-258.3\" font-family=\"Times,serif\" font-size=\"14.00\" fill=\"#000000\">gini = 0.383</text>\n",
       "<text text-anchor=\"middle\" x=\"259.5\" y=\"-243.3\" font-family=\"Times,serif\" font-size=\"14.00\" fill=\"#000000\">samples = 314</text>\n",
       "<text text-anchor=\"middle\" x=\"259.5\" y=\"-228.3\" font-family=\"Times,serif\" font-size=\"14.00\" fill=\"#000000\">value = [81, 233]</text>\n",
       "</g>\n",
       "<!-- 0&#45;&gt;1 -->\n",
       "<g id=\"edge1\" class=\"edge\">\n",
       "<title>0&#45;&gt;1</title>\n",
       "<path fill=\"none\" stroke=\"#000000\" d=\"M149.2133,-228.8658C159.1412,-231.1734 169.3532,-233.547 179.3682,-235.8748\"/>\n",
       "<polygon fill=\"#000000\" stroke=\"#000000\" points=\"178.767,-239.3283 189.2998,-238.1832 180.3518,-232.51 178.767,-239.3283\"/>\n",
       "<text text-anchor=\"middle\" x=\"168.0789\" y=\"-247.6997\" font-family=\"Times,serif\" font-size=\"14.00\" fill=\"#000000\">True</text>\n",
       "</g>\n",
       "<!-- 8 -->\n",
       "<g id=\"node9\" class=\"node\">\n",
       "<title>8</title>\n",
       "<polygon fill=\"none\" stroke=\"#000000\" points=\"334,-202.5 185,-202.5 185,-134.5 334,-134.5 334,-202.5\"/>\n",
       "<text text-anchor=\"middle\" x=\"259.5\" y=\"-187.3\" font-family=\"Times,serif\" font-size=\"14.00\" fill=\"#000000\">Age &lt;= 6.5</text>\n",
       "<text text-anchor=\"middle\" x=\"259.5\" y=\"-172.3\" font-family=\"Times,serif\" font-size=\"14.00\" fill=\"#000000\">gini = 0.306</text>\n",
       "<text text-anchor=\"middle\" x=\"259.5\" y=\"-157.3\" font-family=\"Times,serif\" font-size=\"14.00\" fill=\"#000000\">samples = 577</text>\n",
       "<text text-anchor=\"middle\" x=\"259.5\" y=\"-142.3\" font-family=\"Times,serif\" font-size=\"14.00\" fill=\"#000000\">value = [468, 109]</text>\n",
       "</g>\n",
       "<!-- 0&#45;&gt;8 -->\n",
       "<g id=\"edge8\" class=\"edge\">\n",
       "<title>0&#45;&gt;8</title>\n",
       "<path fill=\"none\" stroke=\"#000000\" d=\"M149.2133,-194.1342C157.6464,-192.1741 166.2845,-190.1663 174.8326,-188.1794\"/>\n",
       "<polygon fill=\"#000000\" stroke=\"#000000\" points=\"175.8606,-191.5339 184.8085,-185.8607 174.2758,-184.7156 175.8606,-191.5339\"/>\n",
       "<text text-anchor=\"middle\" x=\"163.5877\" y=\"-168.9442\" font-family=\"Times,serif\" font-size=\"14.00\" fill=\"#000000\">False</text>\n",
       "</g>\n",
       "<!-- 2 -->\n",
       "<g id=\"node3\" class=\"node\">\n",
       "<title>2</title>\n",
       "<polygon fill=\"none\" stroke=\"#000000\" points=\"510,-372.5 370,-372.5 370,-304.5 510,-304.5 510,-372.5\"/>\n",
       "<text text-anchor=\"middle\" x=\"440\" y=\"-357.3\" font-family=\"Times,serif\" font-size=\"14.00\" fill=\"#000000\">Pclass_2 &lt;= 0.5</text>\n",
       "<text text-anchor=\"middle\" x=\"440\" y=\"-342.3\" font-family=\"Times,serif\" font-size=\"14.00\" fill=\"#000000\">gini = 0.458</text>\n",
       "<text text-anchor=\"middle\" x=\"440\" y=\"-327.3\" font-family=\"Times,serif\" font-size=\"14.00\" fill=\"#000000\">samples = 220</text>\n",
       "<text text-anchor=\"middle\" x=\"440\" y=\"-312.3\" font-family=\"Times,serif\" font-size=\"14.00\" fill=\"#000000\">value = [78, 142]</text>\n",
       "</g>\n",
       "<!-- 1&#45;&gt;2 -->\n",
       "<g id=\"edge2\" class=\"edge\">\n",
       "<title>1&#45;&gt;2</title>\n",
       "<path fill=\"none\" stroke=\"#000000\" d=\"M329.5444,-287.0968C339.8148,-291.8764 350.4532,-296.8272 360.8897,-301.6841\"/>\n",
       "<polygon fill=\"#000000\" stroke=\"#000000\" points=\"359.4519,-304.8754 369.995,-305.9215 362.4054,-298.529 359.4519,-304.8754\"/>\n",
       "</g>\n",
       "<!-- 5 -->\n",
       "<g id=\"node6\" class=\"node\">\n",
       "<title>5</title>\n",
       "<polygon fill=\"none\" stroke=\"#000000\" points=\"510,-286.5 370,-286.5 370,-218.5 510,-218.5 510,-286.5\"/>\n",
       "<text text-anchor=\"middle\" x=\"440\" y=\"-271.3\" font-family=\"Times,serif\" font-size=\"14.00\" fill=\"#000000\">Fare &lt;= 141.077</text>\n",
       "<text text-anchor=\"middle\" x=\"440\" y=\"-256.3\" font-family=\"Times,serif\" font-size=\"14.00\" fill=\"#000000\">gini = 0.062</text>\n",
       "<text text-anchor=\"middle\" x=\"440\" y=\"-241.3\" font-family=\"Times,serif\" font-size=\"14.00\" fill=\"#000000\">samples = 94</text>\n",
       "<text text-anchor=\"middle\" x=\"440\" y=\"-226.3\" font-family=\"Times,serif\" font-size=\"14.00\" fill=\"#000000\">value = [3, 91]</text>\n",
       "</g>\n",
       "<!-- 1&#45;&gt;5 -->\n",
       "<g id=\"edge5\" class=\"edge\">\n",
       "<title>1&#45;&gt;5</title>\n",
       "<path fill=\"none\" stroke=\"#000000\" d=\"M329.5444,-253.7239C339.5035,-253.6135 349.8087,-253.4993 359.9404,-253.3871\"/>\n",
       "<polygon fill=\"#000000\" stroke=\"#000000\" points=\"360.0344,-256.8864 369.995,-253.2757 359.9568,-249.8868 360.0344,-256.8864\"/>\n",
       "</g>\n",
       "<!-- 3 -->\n",
       "<g id=\"node4\" class=\"node\">\n",
       "<title>3</title>\n",
       "<polygon fill=\"none\" stroke=\"#000000\" points=\"681.5,-432 550.5,-432 550.5,-379 681.5,-379 681.5,-432\"/>\n",
       "<text text-anchor=\"middle\" x=\"616\" y=\"-416.8\" font-family=\"Times,serif\" font-size=\"14.00\" fill=\"#000000\">gini = 0.5</text>\n",
       "<text text-anchor=\"middle\" x=\"616\" y=\"-401.8\" font-family=\"Times,serif\" font-size=\"14.00\" fill=\"#000000\">samples = 144</text>\n",
       "<text text-anchor=\"middle\" x=\"616\" y=\"-386.8\" font-family=\"Times,serif\" font-size=\"14.00\" fill=\"#000000\">value = [72, 72]</text>\n",
       "</g>\n",
       "<!-- 2&#45;&gt;3 -->\n",
       "<g id=\"edge3\" class=\"edge\">\n",
       "<title>2&#45;&gt;3</title>\n",
       "<path fill=\"none\" stroke=\"#000000\" d=\"M510.0656,-365.1727C520.2673,-369.0563 530.8048,-373.0677 541.0977,-376.9861\"/>\n",
       "<polygon fill=\"#000000\" stroke=\"#000000\" points=\"539.8741,-380.2652 550.4651,-380.552 542.3646,-373.7232 539.8741,-380.2652\"/>\n",
       "</g>\n",
       "<!-- 4 -->\n",
       "<g id=\"node5\" class=\"node\">\n",
       "<title>4</title>\n",
       "<polygon fill=\"none\" stroke=\"#000000\" points=\"677,-361 555,-361 555,-308 677,-308 677,-361\"/>\n",
       "<text text-anchor=\"middle\" x=\"616\" y=\"-345.8\" font-family=\"Times,serif\" font-size=\"14.00\" fill=\"#000000\">gini = 0.145</text>\n",
       "<text text-anchor=\"middle\" x=\"616\" y=\"-330.8\" font-family=\"Times,serif\" font-size=\"14.00\" fill=\"#000000\">samples = 76</text>\n",
       "<text text-anchor=\"middle\" x=\"616\" y=\"-315.8\" font-family=\"Times,serif\" font-size=\"14.00\" fill=\"#000000\">value = [6, 70]</text>\n",
       "</g>\n",
       "<!-- 2&#45;&gt;4 -->\n",
       "<g id=\"edge4\" class=\"edge\">\n",
       "<title>2&#45;&gt;4</title>\n",
       "<path fill=\"none\" stroke=\"#000000\" d=\"M510.0656,-336.9076C521.4416,-336.6491 533.2351,-336.381 544.6415,-336.1218\"/>\n",
       "<polygon fill=\"#000000\" stroke=\"#000000\" points=\"545.067,-339.6131 554.9849,-335.8867 544.9079,-332.6149 545.067,-339.6131\"/>\n",
       "</g>\n",
       "<!-- 6 -->\n",
       "<g id=\"node7\" class=\"node\">\n",
       "<title>6</title>\n",
       "<polygon fill=\"none\" stroke=\"#000000\" points=\"677,-283 555,-283 555,-230 677,-230 677,-283\"/>\n",
       "<text text-anchor=\"middle\" x=\"616\" y=\"-267.8\" font-family=\"Times,serif\" font-size=\"14.00\" fill=\"#000000\">gini = 0.027</text>\n",
       "<text text-anchor=\"middle\" x=\"616\" y=\"-252.8\" font-family=\"Times,serif\" font-size=\"14.00\" fill=\"#000000\">samples = 73</text>\n",
       "<text text-anchor=\"middle\" x=\"616\" y=\"-237.8\" font-family=\"Times,serif\" font-size=\"14.00\" fill=\"#000000\">value = [1, 72]</text>\n",
       "</g>\n",
       "<!-- 5&#45;&gt;6 -->\n",
       "<g id=\"edge6\" class=\"edge\">\n",
       "<title>5&#45;&gt;6</title>\n",
       "<path fill=\"none\" stroke=\"#000000\" d=\"M510.0656,-254.0924C521.4416,-254.3509 533.2351,-254.619 544.6415,-254.8782\"/>\n",
       "<polygon fill=\"#000000\" stroke=\"#000000\" points=\"544.9079,-258.3851 554.9849,-255.1133 545.067,-251.3869 544.9079,-258.3851\"/>\n",
       "</g>\n",
       "<!-- 7 -->\n",
       "<g id=\"node8\" class=\"node\">\n",
       "<title>7</title>\n",
       "<polygon fill=\"none\" stroke=\"#000000\" points=\"677,-212 555,-212 555,-159 677,-159 677,-212\"/>\n",
       "<text text-anchor=\"middle\" x=\"616\" y=\"-196.8\" font-family=\"Times,serif\" font-size=\"14.00\" fill=\"#000000\">gini = 0.172</text>\n",
       "<text text-anchor=\"middle\" x=\"616\" y=\"-181.8\" font-family=\"Times,serif\" font-size=\"14.00\" fill=\"#000000\">samples = 21</text>\n",
       "<text text-anchor=\"middle\" x=\"616\" y=\"-166.8\" font-family=\"Times,serif\" font-size=\"14.00\" fill=\"#000000\">value = [2, 19]</text>\n",
       "</g>\n",
       "<!-- 5&#45;&gt;7 -->\n",
       "<g id=\"edge7\" class=\"edge\">\n",
       "<title>5&#45;&gt;7</title>\n",
       "<path fill=\"none\" stroke=\"#000000\" d=\"M510.0656,-225.8273C521.6737,-221.4083 533.7167,-216.8238 545.3394,-212.3992\"/>\n",
       "<polygon fill=\"#000000\" stroke=\"#000000\" points=\"546.8844,-215.5561 554.9849,-208.7273 544.394,-209.0141 546.8844,-215.5561\"/>\n",
       "</g>\n",
       "<!-- 9 -->\n",
       "<g id=\"node10\" class=\"node\">\n",
       "<title>9</title>\n",
       "<polygon fill=\"none\" stroke=\"#000000\" points=\"501,-197 379,-197 379,-144 501,-144 501,-197\"/>\n",
       "<text text-anchor=\"middle\" x=\"440\" y=\"-181.8\" font-family=\"Times,serif\" font-size=\"14.00\" fill=\"#000000\">gini = 0.444</text>\n",
       "<text text-anchor=\"middle\" x=\"440\" y=\"-166.8\" font-family=\"Times,serif\" font-size=\"14.00\" fill=\"#000000\">samples = 24</text>\n",
       "<text text-anchor=\"middle\" x=\"440\" y=\"-151.8\" font-family=\"Times,serif\" font-size=\"14.00\" fill=\"#000000\">value = [8, 16]</text>\n",
       "</g>\n",
       "<!-- 8&#45;&gt;9 -->\n",
       "<g id=\"edge9\" class=\"edge\">\n",
       "<title>8&#45;&gt;9</title>\n",
       "<path fill=\"none\" stroke=\"#000000\" d=\"M334.2192,-169.3279C345.5802,-169.4538 357.2797,-169.5834 368.5681,-169.7085\"/>\n",
       "<polygon fill=\"#000000\" stroke=\"#000000\" points=\"368.7598,-173.2108 378.798,-169.8219 368.8374,-166.2112 368.7598,-173.2108\"/>\n",
       "</g>\n",
       "<!-- 10 -->\n",
       "<g id=\"node11\" class=\"node\">\n",
       "<title>10</title>\n",
       "<polygon fill=\"none\" stroke=\"#000000\" points=\"510,-125.5 370,-125.5 370,-57.5 510,-57.5 510,-125.5\"/>\n",
       "<text text-anchor=\"middle\" x=\"440\" y=\"-110.3\" font-family=\"Times,serif\" font-size=\"14.00\" fill=\"#000000\">Pclass_1 &lt;= 0.5</text>\n",
       "<text text-anchor=\"middle\" x=\"440\" y=\"-95.3\" font-family=\"Times,serif\" font-size=\"14.00\" fill=\"#000000\">gini = 0.28</text>\n",
       "<text text-anchor=\"middle\" x=\"440\" y=\"-80.3\" font-family=\"Times,serif\" font-size=\"14.00\" fill=\"#000000\">samples = 553</text>\n",
       "<text text-anchor=\"middle\" x=\"440\" y=\"-65.3\" font-family=\"Times,serif\" font-size=\"14.00\" fill=\"#000000\">value = [460, 93]</text>\n",
       "</g>\n",
       "<!-- 8&#45;&gt;10 -->\n",
       "<g id=\"edge10\" class=\"edge\">\n",
       "<title>8&#45;&gt;10</title>\n",
       "<path fill=\"none\" stroke=\"#000000\" d=\"M334.2192,-136.6253C342.9085,-132.9185 351.7959,-129.1272 360.5459,-125.3946\"/>\n",
       "<polygon fill=\"#000000\" stroke=\"#000000\" points=\"362.1461,-128.5171 369.9708,-121.374 359.3994,-122.0785 362.1461,-128.5171\"/>\n",
       "</g>\n",
       "<!-- 11 -->\n",
       "<g id=\"node12\" class=\"node\">\n",
       "<title>11</title>\n",
       "<polygon fill=\"none\" stroke=\"#000000\" points=\"686,-124 546,-124 546,-71 686,-71 686,-124\"/>\n",
       "<text text-anchor=\"middle\" x=\"616\" y=\"-108.8\" font-family=\"Times,serif\" font-size=\"14.00\" fill=\"#000000\">gini = 0.204</text>\n",
       "<text text-anchor=\"middle\" x=\"616\" y=\"-93.8\" font-family=\"Times,serif\" font-size=\"14.00\" fill=\"#000000\">samples = 433</text>\n",
       "<text text-anchor=\"middle\" x=\"616\" y=\"-78.8\" font-family=\"Times,serif\" font-size=\"14.00\" fill=\"#000000\">value = [383, 50]</text>\n",
       "</g>\n",
       "<!-- 10&#45;&gt;11 -->\n",
       "<g id=\"edge11\" class=\"edge\">\n",
       "<title>10&#45;&gt;11</title>\n",
       "<path fill=\"none\" stroke=\"#000000\" d=\"M510.0656,-93.8886C518.5403,-94.1775 527.2467,-94.4743 535.8522,-94.7677\"/>\n",
       "<polygon fill=\"#000000\" stroke=\"#000000\" points=\"535.7745,-98.267 545.888,-95.1098 536.0131,-91.271 535.7745,-98.267\"/>\n",
       "</g>\n",
       "<!-- 12 -->\n",
       "<g id=\"node13\" class=\"node\">\n",
       "<title>12</title>\n",
       "<polygon fill=\"none\" stroke=\"#000000\" points=\"681.5,-53 550.5,-53 550.5,0 681.5,0 681.5,-53\"/>\n",
       "<text text-anchor=\"middle\" x=\"616\" y=\"-37.8\" font-family=\"Times,serif\" font-size=\"14.00\" fill=\"#000000\">gini = 0.46</text>\n",
       "<text text-anchor=\"middle\" x=\"616\" y=\"-22.8\" font-family=\"Times,serif\" font-size=\"14.00\" fill=\"#000000\">samples = 120</text>\n",
       "<text text-anchor=\"middle\" x=\"616\" y=\"-7.8\" font-family=\"Times,serif\" font-size=\"14.00\" fill=\"#000000\">value = [77, 43]</text>\n",
       "</g>\n",
       "<!-- 10&#45;&gt;12 -->\n",
       "<g id=\"edge12\" class=\"edge\">\n",
       "<title>10&#45;&gt;12</title>\n",
       "<path fill=\"none\" stroke=\"#000000\" d=\"M510.0656,-65.6235C520.1632,-61.8943 530.5897,-58.0436 540.7826,-54.2792\"/>\n",
       "<polygon fill=\"#000000\" stroke=\"#000000\" points=\"542.297,-57.451 550.4651,-50.7032 539.8718,-50.8845 542.297,-57.451\"/>\n",
       "</g>\n",
       "</g>\n",
       "</svg>\n"
      ],
      "text/plain": [
       "<graphviz.files.Source at 0x7fa76c681e48>"
      ]
     },
     "execution_count": 36,
     "metadata": {},
     "output_type": "execute_result"
    }
   ],
   "source": [
    "import graphviz \n",
    "tree1_view = tree.export_graphviz(tree1, out_file=None, feature_names = X_DT.columns.values, rotate=True) \n",
    "tree1viz = graphviz.Source(tree1_view)\n",
    "tree1viz"
   ]
  },
  {
   "cell_type": "code",
   "execution_count": 37,
   "metadata": {
    "_cell_guid": "043246c0-0eab-4292-9eab-5865bbddb607",
    "_uuid": "a5ba38bfb4b537427b95be3e206093f3da32c46d"
   },
   "outputs": [],
   "source": [
    "final_test_DT=final_test[cols]\n",
    "Y_pred_DT = tree1.predict(final_test_DT)\n",
    "\n",
    "submission = pd.DataFrame({\n",
    "       \"PassengerId\": test_df[\"PassengerId\"],\n",
    "       \"Survived\": Y_pred_DT\n",
    "   })\n",
    "submission.to_csv('titanic_DT.csv', index=False)"
   ]
  },
  {
   "cell_type": "markdown",
   "metadata": {},
   "source": [
    "## 7. Ensemble <a class=\"anchor\" id=\"7-bullet\"></a>\n",
    "\n",
    "> Ensemble Learning is a process using which multiple machine learning models (such as classifiers) are strategically constructed to solve a particular problem.\n",
    "> \n",
    "> Ensemble methods are meta-algorithms that combine several machine learning techniques into one predictive model in order to decrease variance (bagging), bias (boosting), or improve predictions (stacking)."
   ]
  },
  {
   "cell_type": "code",
   "execution_count": 38,
   "metadata": {},
   "outputs": [],
   "source": [
    "submission = pd.DataFrame({\n",
    "        \"PassengerId\": test_df[\"PassengerId\"],\n",
    "        \"Survived\": Y_pred_RF* 0.8 + Y_pred_DT*0.2 #ensmeble of two models\n",
    "    })\n",
    "submission.to_csv('titanic_ensemble.csv', index=False)"
   ]
  },
  {
   "cell_type": "markdown",
   "metadata": {},
   "source": [
    "## 8. TOP 1% Solution Genetic Algorithm <a class=\"anchor\" id=\"8-bullet\"></a>"
   ]
  },
  {
   "cell_type": "code",
   "execution_count": 39,
   "metadata": {},
   "outputs": [],
   "source": [
    "from sympy import simplify, cos, sin, Symbol, Function, tanh, pprint, init_printing, exp\n",
    "from sympy.functions import Min,Max"
   ]
  },
  {
   "cell_type": "code",
   "execution_count": 40,
   "metadata": {},
   "outputs": [],
   "source": [
    "# the winner variables with former values after the hashtag\n",
    "A = 0.058823499828577    \n",
    "B = 0.841127 # 0.885868\n",
    "C = 0.138462007045746 \n",
    "D = 0.31830988618379069\n",
    "E = 2.810815 # 2.675679922103882 \n",
    "F = 0.63661977236758138\n",
    "G = 5.428569793701172   \n",
    "H = 3.1415926535897931\n",
    "I = 0.592158 #0.623655974864960\n",
    "J = 4.869778 #  2.770736 # 2.212120056152344\n",
    "K = 0.063467 # 1.5707963267948966\n",
    "L = -0.091481 # 0.094339601695538 \n",
    "M = 0.0821533 \n",
    "N = 0.720430016517639\n",
    "O = 0.230145 \n",
    "P = 9.89287 \n",
    "Q = 785 \n",
    "R = 1.07241 \n",
    "S = 281\n",
    "T = 734\n",
    "U = 5.3\n",
    "V = 67.0\n",
    "W = 2.484848\n",
    "X = 8.48635 \n",
    "Y = 63\n",
    "Z = 12.6275 \n",
    "AA = 0.735354 # 0.7\n",
    "AB = 727\n",
    "AC = 2.5\n",
    "AD = 2.6 \n",
    "AE = 0.3\n",
    "AF = 3.0\n",
    "AG = 0.226263 #0.1\n",
    "AH = 2.0\n",
    "AI = 12.4148\n",
    "AJ = 96\n",
    "AK = 0.130303 # 0.2\n",
    "AL = 176\n",
    "AM = 3.2\n",
    "BIG = [A,B,C,D,E,F,G,H,I,J,K,L,M,N,O,P,Q,R,S,T,U,V,W,X,Y,Z,AA,AB,AC,AD,AE,AF,AG,AH,AI,AJ,AK,AL,AM]"
   ]
  },
  {
   "cell_type": "code",
   "execution_count": 41,
   "metadata": {},
   "outputs": [],
   "source": [
    "# Now may I present: The winning gen function, Inspired by Akshat's notebook:\n",
    "# https://www.kaggle.com/akshat113/titanic-dataset-analysis-level-2\n",
    "def GeneticFunction(data,A,B,C,D,E,F,G,H,I,J,K,L,M,N,O,P,Q,R,S,T,U,V,W,X,Y,Z,AA,AB,AC,AD,AE,AF,AG,AH,AI,AJ,AK,AL,AM):\n",
    "    return ((np.minimum( ((((A + data[\"Sex\"]) - np.cos((data[\"Pclass\"] / AH))) * AH)),  ((B))) * AH) +\n",
    "            np.maximum( ((data[\"SibSp\"] - AC)),  ( -(np.minimum( (data[\"Sex\"]),  (np.sin(data[\"Parch\"]))) * data[\"Pclass\"]))) +\n",
    "            (AG * ((np.minimum( (data[\"Sex\"]),  (((data[\"Parch\"] / AH) / AH))) * data[\"Age\"]) - data[\"Cabin\"])) +\n",
    "            np.minimum( ((np.sin((data[\"Parch\"] * ((data[\"Fare\"] - AA) * AH))) * AH)),  ((data[\"SibSp\"] / AH))) +\n",
    "            np.maximum( (np.minimum( ( -np.cos(data[\"Embarked\"])),  (C))),  (np.sin(((data[\"Cabin\"] - data[\"Fare\"]) * AH)))) +\n",
    "            -np.minimum( ((((data[\"Age\"] * data[\"Parch\"]) * data[\"Embarked\"]) + data[\"Parch\"])),  (np.sin(data[\"Pclass\"]))) +\n",
    "            np.minimum( (data[\"Sex\"]),  ((np.sin( -(data[\"Fare\"] * np.cos((data[\"Fare\"] * W)))) / AH))) +\n",
    "            np.minimum( ((O)),  (np.sin(np.minimum( (((V / AH) * np.sin(data[\"Fare\"]))),  (D))))) +\n",
    "            np.sin((np.sin(data[\"Cabin\"]) * (np.sin((Z)) * np.maximum( (data[\"Age\"]),  (data[\"Fare\"]))))) +\n",
    "            np.sin(((np.minimum( (data[\"Fare\"]),  ((data[\"Cabin\"] * data[\"Embarked\"]))) / AH) *  -data[\"Fare\"])) +\n",
    "            np.minimum( (((AD * data[\"SibSp\"]) * np.sin(((AJ) * np.sin(data[\"Cabin\"]))))),  (data[\"Parch\"])) +\n",
    "            np.sin(np.sin((np.maximum( (np.minimum( (data[\"Age\"]),  (data[\"Cabin\"]))),  ((data[\"Fare\"] * AK))) * data[\"Cabin\"]))) +\n",
    "            np.maximum( (np.sin(((AI) * (data[\"Age\"] / AH)))),  (np.sin((-AF * data[\"Cabin\"])))) +\n",
    "            (np.minimum( (np.sin((((np.sin(((data[\"Fare\"] * AH) * AH)) * AH) * AH) * AH))),  (data[\"SibSp\"])) / AH) +\n",
    "            ((data[\"Sex\"] - data[\"SibSp\"]) * (np.cos(((data[\"Embarked\"] - AA) + data[\"Age\"])) / AH)) +\n",
    "            ((np.sin(data[\"Cabin\"]) / AH) - (np.cos(np.minimum( (data[\"Age\"]),  (data[\"Embarked\"]))) * np.sin(data[\"Embarked\"]))) +\n",
    "            np.minimum( (AE),  ((data[\"Sex\"] * (J * (N - np.sin((data[\"Age\"] * AH))))))) +\n",
    "            (np.minimum( (np.cos(data[\"Fare\"])),  (np.maximum( (np.sin(data[\"Age\"])),  (data[\"Parch\"])))) * np.cos((data[\"Fare\"] / AH))) +\n",
    "            np.sin((data[\"Parch\"] * np.minimum( ((data[\"Age\"] - K)),  ((np.cos((data[\"Pclass\"] * AH)) / AH))))) +\n",
    "            (data[\"Parch\"] * (np.sin(((data[\"Fare\"] * (I * data[\"Age\"])) * AH)) / AH)) +\n",
    "            (D * np.cos(np.maximum( ((0.5 * data[\"Fare\"])),  ((np.sin(N) * data[\"Age\"]))))) +\n",
    "            (np.minimum( ((data[\"SibSp\"] / AH)),  (np.sin(((data[\"Pclass\"] - data[\"Fare\"]) * data[\"SibSp\"])))) * data[\"SibSp\"]) +\n",
    "            np.tanh((data[\"Sex\"] * np.sin((U * np.sin((data[\"Cabin\"] * np.cos(data[\"Fare\"]))))))) +\n",
    "            (np.minimum( (data[\"Parch\"]),  (data[\"Sex\"])) * np.cos(np.maximum( ((np.cos(data[\"Parch\"]) + data[\"Age\"])),  (AM)))) +\n",
    "            (np.minimum( (np.tanh(((data[\"Cabin\"] / AH) + data[\"Parch\"]))),  ((data[\"Sex\"] + np.cos(data[\"Age\"])))) / AH) +\n",
    "            (np.sin((np.sin(data[\"Sex\"]) * (np.sin((data[\"Age\"] * data[\"Pclass\"])) * data[\"Pclass\"]))) / AH) +\n",
    "            (data[\"Sex\"] * (np.cos(((data[\"Sex\"] + data[\"Fare\"]) * ((X) * (Y)))) / AH)) +\n",
    "            np.minimum( (data[\"Sex\"]),  ((np.cos((data[\"Age\"] * np.tanh(np.sin(np.cos(data[\"Fare\"]))))) / AH))) +\n",
    "            (np.tanh(np.tanh( -np.cos((np.maximum( (np.cos(data[\"Fare\"])),  (L)) * data[\"Age\"])))) / AH) +\n",
    "            (np.tanh(np.cos((np.cos(data[\"Age\"]) + (data[\"Age\"] + np.minimum( (data[\"Fare\"]),  (data[\"Age\"])))))) / AH) +\n",
    "            (np.tanh(np.cos((data[\"Age\"] * ((-AH + np.sin(data[\"SibSp\"])) + data[\"Fare\"])))) / AH) +\n",
    "            (np.minimum( (((S) - data[\"Fare\"])),  (np.sin((np.maximum( ((AL)),  (data[\"Fare\"])) * data[\"SibSp\"])))) * AH) +\n",
    "            np.sin(((np.maximum( (data[\"Embarked\"]),  (data[\"Age\"])) * AH) * (((Q) * H) * data[\"Age\"]))) +\n",
    "            np.minimum( (data[\"Sex\"]),  (np.sin( -(np.minimum( ((data[\"Cabin\"] / AH)),  (data[\"SibSp\"])) * (data[\"Fare\"] / AH))))) +\n",
    "            np.sin(np.sin((data[\"Cabin\"] * (data[\"Embarked\"] + (np.tanh( -data[\"Age\"]) + data[\"Fare\"]))))) +\n",
    "            (np.cos(np.cos(data[\"Fare\"])) * (np.sin((data[\"Embarked\"] - ((T) * data[\"Fare\"]))) / AH)) +\n",
    "            ((np.minimum( (data[\"SibSp\"]),  (np.cos(data[\"Fare\"]))) * np.cos(data[\"SibSp\"])) * np.sin((data[\"Age\"] / AH))) +\n",
    "            (np.sin((np.sin((data[\"SibSp\"] * np.cos((data[\"Fare\"] * AH)))) + (data[\"Cabin\"] * AH))) / AH) +\n",
    "            (((data[\"Sex\"] * data[\"SibSp\"]) * np.sin(np.sin( -(data[\"Fare\"] * data[\"Cabin\"])))) * AH) +\n",
    "            (np.sin((data[\"SibSp\"] * ((((G + V) * AH) / AH) * data[\"Age\"]))) / AH) +\n",
    "            (data[\"Pclass\"] * (np.sin(((data[\"Embarked\"] * data[\"Cabin\"]) * (data[\"Age\"] - (R)))) / AH)) +\n",
    "            (np.cos((((( -data[\"SibSp\"] + data[\"Age\"]) + data[\"Parch\"]) * data[\"Embarked\"]) / AH)) / AH) +\n",
    "            (D * np.sin(((data[\"Age\"] * ((data[\"Embarked\"] * np.sin(data[\"Fare\"])) * AH)) * AH))) +\n",
    "            ((np.minimum( ((data[\"Age\"] * A)),  (data[\"Sex\"])) - F) * np.tanh(np.sin(data[\"Pclass\"]))) +\n",
    "            -np.minimum( ((np.cos(((AB) * ((data[\"Fare\"] + data[\"Parch\"]) * AH))) / AH)),  (data[\"Fare\"])) +\n",
    "            (np.minimum( (np.cos(data[\"Fare\"])),  (data[\"SibSp\"])) * np.minimum( (np.sin(data[\"Parch\"])),  (np.cos((data[\"Embarked\"] * AH))))) +\n",
    "            (np.minimum( (((data[\"Fare\"] / AH) - E)),  (C)) * np.sin((K * data[\"Age\"]))) +\n",
    "            np.minimum( ((M)),  (((np.sin(data[\"Fare\"]) + data[\"Embarked\"]) - np.cos((data[\"Age\"] * (P)))))))"
   ]
  },
  {
   "cell_type": "code",
   "execution_count": 42,
   "metadata": {},
   "outputs": [],
   "source": [
    "def CleanData(data):\n",
    "    # Sex\n",
    "    data.drop(['Ticket', 'Name'], inplace=True, axis=1)\n",
    "    data.Sex.fillna('0', inplace=True)\n",
    "    data.loc[data.Sex != 'male', 'Sex'] = 0\n",
    "    data.loc[data.Sex == 'male', 'Sex'] = 1\n",
    "    # Cabin\n",
    "    data.Cabin.fillna('0', inplace=True)\n",
    "    data.loc[data.Cabin.str[0] == 'A', 'Cabin'] = 1\n",
    "    data.loc[data.Cabin.str[0] == 'B', 'Cabin'] = 2\n",
    "    data.loc[data.Cabin.str[0] == 'C', 'Cabin'] = 3\n",
    "    data.loc[data.Cabin.str[0] == 'D', 'Cabin'] = 4\n",
    "    data.loc[data.Cabin.str[0] == 'E', 'Cabin'] = 5\n",
    "    data.loc[data.Cabin.str[0] == 'F', 'Cabin'] = 6\n",
    "    data.loc[data.Cabin.str[0] == 'G', 'Cabin'] = 7\n",
    "    data.loc[data.Cabin.str[0] == 'T', 'Cabin'] = 8\n",
    "    # Embarked\n",
    "    data.loc[data.Embarked == 'C', 'Embarked'] = 1\n",
    "    data.loc[data.Embarked == 'Q', 'Embarked'] = 2\n",
    "    data.loc[data.Embarked == 'S', 'Embarked'] = 3\n",
    "    data.Embarked.fillna(0, inplace=True)\n",
    "    data.fillna(-1, inplace=True)\n",
    "    return data.astype(float)\n",
    "\n",
    "# This function rounds values to either 1 or 0, because the GeneticFunction below returns floats and no\n",
    "# definite values\n",
    "def Outputs(data):\n",
    "    return np.round(1.-(1./(1.+np.exp(-data))))"
   ]
  },
  {
   "cell_type": "code",
   "execution_count": 43,
   "metadata": {},
   "outputs": [
    {
     "name": "stdout",
     "output_type": "stream",
     "text": [
      "Training set score:  92.70482603815937\n"
     ]
    }
   ],
   "source": [
    "raw_train = pd.read_csv('../input/titanic/train.csv')\n",
    "raw_test = pd.read_csv('../input/titanic/test.csv')\n",
    "\n",
    "cleanedTrain = CleanData(raw_train)\n",
    "cleanedTest = CleanData(raw_test)\n",
    "# run a check on the Training dataset. See section \"Programm your own gen. algorithm\" below on how to \n",
    "# construct your own genetic algorithm\n",
    "thisArray = BIG.copy()\n",
    "testPredictions = Outputs(GeneticFunction(cleanedTrain,thisArray[0],thisArray[1],thisArray[2],thisArray[3],thisArray[4],thisArray[5],thisArray[6],thisArray[7],thisArray[8],thisArray[9],thisArray[10],thisArray[11],thisArray[12],thisArray[13],thisArray[14],thisArray[15],thisArray[16],thisArray[17],thisArray[18],thisArray[19],thisArray[20],thisArray[21],thisArray[22],thisArray[23],thisArray[24],thisArray[25],thisArray[26],thisArray[27],thisArray[28],thisArray[29],thisArray[30],thisArray[31],thisArray[32],thisArray[33],thisArray[34],thisArray[35],thisArray[36],thisArray[37],thisArray[38]))\n",
    "pdcheck = pd.DataFrame({'Survived': testPredictions.astype(int)})\n",
    "ret = pdcheck.Survived.where(pdcheck[\"Survived\"].values==cleanedTrain[\"Survived\"].values).notna()\n",
    "t,f = ret.value_counts()\n",
    "score = 100/(t+f)*t\n",
    "print(\"Training set score: \",score)"
   ]
  },
  {
   "cell_type": "code",
   "execution_count": 44,
   "metadata": {},
   "outputs": [
    {
     "data": {
      "text/html": [
       "<div>\n",
       "<style scoped>\n",
       "    .dataframe tbody tr th:only-of-type {\n",
       "        vertical-align: middle;\n",
       "    }\n",
       "\n",
       "    .dataframe tbody tr th {\n",
       "        vertical-align: top;\n",
       "    }\n",
       "\n",
       "    .dataframe thead th {\n",
       "        text-align: right;\n",
       "    }\n",
       "</style>\n",
       "<table border=\"1\" class=\"dataframe\">\n",
       "  <thead>\n",
       "    <tr style=\"text-align: right;\">\n",
       "      <th></th>\n",
       "      <th>PassengerId</th>\n",
       "      <th>Survived</th>\n",
       "    </tr>\n",
       "  </thead>\n",
       "  <tbody>\n",
       "    <tr>\n",
       "      <th>0</th>\n",
       "      <td>892</td>\n",
       "      <td>0</td>\n",
       "    </tr>\n",
       "    <tr>\n",
       "      <th>1</th>\n",
       "      <td>893</td>\n",
       "      <td>1</td>\n",
       "    </tr>\n",
       "    <tr>\n",
       "      <th>2</th>\n",
       "      <td>894</td>\n",
       "      <td>0</td>\n",
       "    </tr>\n",
       "    <tr>\n",
       "      <th>3</th>\n",
       "      <td>895</td>\n",
       "      <td>0</td>\n",
       "    </tr>\n",
       "    <tr>\n",
       "      <th>4</th>\n",
       "      <td>896</td>\n",
       "      <td>1</td>\n",
       "    </tr>\n",
       "  </tbody>\n",
       "</table>\n",
       "</div>"
      ],
      "text/plain": [
       "   PassengerId  Survived\n",
       "0          892         0\n",
       "1          893         1\n",
       "2          894         0\n",
       "3          895         0\n",
       "4          896         1"
      ]
     },
     "execution_count": 44,
     "metadata": {},
     "output_type": "execute_result"
    }
   ],
   "source": [
    "testPredictions = Outputs(GeneticFunction(cleanedTest,A,B,C,D,E,F,G,H,I,J,K,L,M,N,O,P,Q,R,S,T,U,V,W,X,Y,Z,AA,AB,AC,AD,AE,AF,AG,AH,AI,AJ,AK,AL,AM))\n",
    "pdtest = pd.DataFrame({'PassengerId': cleanedTest.PassengerId.astype(int),\n",
    "                        'Survived': testPredictions.astype(int)})\n",
    "pdtest.to_csv('submission_GA.csv', index=False)\n",
    "pdtest.head()"
   ]
  }
 ],
 "metadata": {
  "kernelspec": {
   "display_name": "Python 3",
   "language": "python",
   "name": "python3"
  },
  "language_info": {
   "codemirror_mode": {
    "name": "ipython",
    "version": 3
   },
   "file_extension": ".py",
   "mimetype": "text/x-python",
   "name": "python",
   "nbconvert_exporter": "python",
   "pygments_lexer": "ipython3",
   "version": "3.8.5"
  }
 },
 "nbformat": 4,
 "nbformat_minor": 4
}
